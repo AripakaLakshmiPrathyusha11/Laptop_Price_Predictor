{
 "cells": [
  {
   "cell_type": "code",
   "execution_count": 1,
   "id": "053890b7",
   "metadata": {},
   "outputs": [
    {
     "name": "stdout",
     "output_type": "stream",
     "text": [
      "Requirement already satisfied: scikit-learn==1.2.2 in c:\\users\\91932\\anaconda3\\lib\\site-packages (1.2.2)\n",
      "Requirement already satisfied: numpy>=1.17.3 in c:\\users\\91932\\anaconda3\\lib\\site-packages (from scikit-learn==1.2.2) (1.21.5)\n",
      "Requirement already satisfied: threadpoolctl>=2.0.0 in c:\\users\\91932\\anaconda3\\lib\\site-packages (from scikit-learn==1.2.2) (2.2.0)\n",
      "Requirement already satisfied: scipy>=1.3.2 in c:\\users\\91932\\anaconda3\\lib\\site-packages (from scikit-learn==1.2.2) (1.7.3)\n",
      "Requirement already satisfied: joblib>=1.1.1 in c:\\users\\91932\\anaconda3\\lib\\site-packages (from scikit-learn==1.2.2) (1.2.0)\n",
      "Note: you may need to restart the kernel to use updated packages.\n"
     ]
    }
   ],
   "source": [
    "pip install scikit-learn==1.2.2"
   ]
  },
  {
   "cell_type": "code",
   "execution_count": 2,
   "id": "4032eac8",
   "metadata": {},
   "outputs": [
    {
     "name": "stdout",
     "output_type": "stream",
     "text": [
      "1.2.2\n"
     ]
    }
   ],
   "source": [
    "import pandas as pd\n",
    "import numpy as np\n",
    "import seaborn as sns\n",
    "import matplotlib.pyplot as plt\n",
    "%matplotlib inline\n",
    "from sklearn import __version__\n",
    "\n",
    "print(__version__)\n"
   ]
  },
  {
   "cell_type": "code",
   "execution_count": 3,
   "id": "f49721db",
   "metadata": {},
   "outputs": [],
   "source": [
    "#load dataset\n",
    "\n",
    "df = pd.read_csv(r\"D:\\Data Science internship 2023\\lp\\laptop_prediction\\resources\\laptop_details.csv\")"
   ]
  },
  {
   "cell_type": "code",
   "execution_count": 4,
   "id": "43c0daac",
   "metadata": {},
   "outputs": [
    {
     "data": {
      "text/html": [
       "<div>\n",
       "<style scoped>\n",
       "    .dataframe tbody tr th:only-of-type {\n",
       "        vertical-align: middle;\n",
       "    }\n",
       "\n",
       "    .dataframe tbody tr th {\n",
       "        vertical-align: top;\n",
       "    }\n",
       "\n",
       "    .dataframe thead th {\n",
       "        text-align: right;\n",
       "    }\n",
       "</style>\n",
       "<table border=\"1\" class=\"dataframe\">\n",
       "  <thead>\n",
       "    <tr style=\"text-align: right;\">\n",
       "      <th></th>\n",
       "      <th>Product</th>\n",
       "      <th>Rating</th>\n",
       "      <th>MRP</th>\n",
       "      <th>Feature</th>\n",
       "    </tr>\n",
       "  </thead>\n",
       "  <tbody>\n",
       "    <tr>\n",
       "      <th>0</th>\n",
       "      <td>Lenovo IdeaPad 3 Core i3 11th Gen - (8 GB/256 ...</td>\n",
       "      <td>4.2</td>\n",
       "      <td>₹36,990</td>\n",
       "      <td>Intel Core i3 Processor (11th Gen)8 GB DDR4 RA...</td>\n",
       "    </tr>\n",
       "    <tr>\n",
       "      <th>1</th>\n",
       "      <td>Lenovo IdeaPad 3 Core i3 11th Gen - (8 GB/512 ...</td>\n",
       "      <td>4.2</td>\n",
       "      <td>₹39,990</td>\n",
       "      <td>Intel Core i3 Processor (11th Gen)8 GB DDR4 RA...</td>\n",
       "    </tr>\n",
       "    <tr>\n",
       "      <th>2</th>\n",
       "      <td>ASUS VivoBook 15 (2022) Core i3 10th Gen - (8 ...</td>\n",
       "      <td>4.3</td>\n",
       "      <td>₹32,990</td>\n",
       "      <td>Intel Core i3 Processor (10th Gen)8 GB DDR4 RA...</td>\n",
       "    </tr>\n",
       "    <tr>\n",
       "      <th>3</th>\n",
       "      <td>HP Pavilion Ryzen 5 Hexa Core AMD R5-5600H - (...</td>\n",
       "      <td>4.4</td>\n",
       "      <td>₹49,990</td>\n",
       "      <td>AMD Ryzen 5 Hexa Core Processor8 GB DDR4 RAM64...</td>\n",
       "    </tr>\n",
       "    <tr>\n",
       "      <th>4</th>\n",
       "      <td>ASUS TUF Gaming F15 Core i5 10th Gen - (8 GB/5...</td>\n",
       "      <td>4.4</td>\n",
       "      <td>₹49,990</td>\n",
       "      <td>Intel Core i5 Processor (10th Gen)8 GB DDR4 RA...</td>\n",
       "    </tr>\n",
       "  </tbody>\n",
       "</table>\n",
       "</div>"
      ],
      "text/plain": [
       "                                             Product  Rating      MRP  \\\n",
       "0  Lenovo IdeaPad 3 Core i3 11th Gen - (8 GB/256 ...     4.2  ₹36,990   \n",
       "1  Lenovo IdeaPad 3 Core i3 11th Gen - (8 GB/512 ...     4.2  ₹39,990   \n",
       "2  ASUS VivoBook 15 (2022) Core i3 10th Gen - (8 ...     4.3  ₹32,990   \n",
       "3  HP Pavilion Ryzen 5 Hexa Core AMD R5-5600H - (...     4.4  ₹49,990   \n",
       "4  ASUS TUF Gaming F15 Core i5 10th Gen - (8 GB/5...     4.4  ₹49,990   \n",
       "\n",
       "                                             Feature  \n",
       "0  Intel Core i3 Processor (11th Gen)8 GB DDR4 RA...  \n",
       "1  Intel Core i3 Processor (11th Gen)8 GB DDR4 RA...  \n",
       "2  Intel Core i3 Processor (10th Gen)8 GB DDR4 RA...  \n",
       "3  AMD Ryzen 5 Hexa Core Processor8 GB DDR4 RAM64...  \n",
       "4  Intel Core i5 Processor (10th Gen)8 GB DDR4 RA...  "
      ]
     },
     "execution_count": 4,
     "metadata": {},
     "output_type": "execute_result"
    }
   ],
   "source": [
    "#check the dataset\n",
    "\n",
    "df.head()"
   ]
  },
  {
   "cell_type": "code",
   "execution_count": 5,
   "id": "6e929c72",
   "metadata": {},
   "outputs": [
    {
     "data": {
      "text/html": [
       "<div>\n",
       "<style scoped>\n",
       "    .dataframe tbody tr th:only-of-type {\n",
       "        vertical-align: middle;\n",
       "    }\n",
       "\n",
       "    .dataframe tbody tr th {\n",
       "        vertical-align: top;\n",
       "    }\n",
       "\n",
       "    .dataframe thead th {\n",
       "        text-align: right;\n",
       "    }\n",
       "</style>\n",
       "<table border=\"1\" class=\"dataframe\">\n",
       "  <thead>\n",
       "    <tr style=\"text-align: right;\">\n",
       "      <th></th>\n",
       "      <th>Product</th>\n",
       "      <th>Rating</th>\n",
       "      <th>MRP</th>\n",
       "      <th>Feature</th>\n",
       "    </tr>\n",
       "  </thead>\n",
       "  <tbody>\n",
       "    <tr>\n",
       "      <th>715</th>\n",
       "      <td>ASUS Chromebook Flip Touch Celeron Dual Core -...</td>\n",
       "      <td>4.0</td>\n",
       "      <td>₹23,490</td>\n",
       "      <td>Intel Celeron Dual Core Processor4 GB LPDDR4 R...</td>\n",
       "    </tr>\n",
       "    <tr>\n",
       "      <th>716</th>\n",
       "      <td>Lenovo IdeaPad Gaming 3 Ryzen 7 Octa Core AMD ...</td>\n",
       "      <td>4.5</td>\n",
       "      <td>₹73,490</td>\n",
       "      <td>AMD Ryzen 7 Octa Core Processor8 GB DDR4 RAM64...</td>\n",
       "    </tr>\n",
       "    <tr>\n",
       "      <th>717</th>\n",
       "      <td>ASUS ROG Zephyrus G15 Ryzen 9 Octa Core 6900HS...</td>\n",
       "      <td>NaN</td>\n",
       "      <td>₹1,94,990</td>\n",
       "      <td>AMD Ryzen 9 Octa Core Processor16 GB DDR5 RAM6...</td>\n",
       "    </tr>\n",
       "    <tr>\n",
       "      <th>718</th>\n",
       "      <td>ASUS Zenbook Flip 14 OLED (2022) Touch Panel C...</td>\n",
       "      <td>3.0</td>\n",
       "      <td>₹1,25,990</td>\n",
       "      <td>Intel Core i7 Processor (12th Gen)16 GB LPDDR5...</td>\n",
       "    </tr>\n",
       "    <tr>\n",
       "      <th>719</th>\n",
       "      <td>Lenovo Ideapad Slim 3i Core i5 10th Gen - (8 G...</td>\n",
       "      <td>4.2</td>\n",
       "      <td>₹50,990</td>\n",
       "      <td>Intel Core i5 Processor (10th Gen)8 GB DDR4 RA...</td>\n",
       "    </tr>\n",
       "  </tbody>\n",
       "</table>\n",
       "</div>"
      ],
      "text/plain": [
       "                                               Product  Rating        MRP  \\\n",
       "715  ASUS Chromebook Flip Touch Celeron Dual Core -...     4.0    ₹23,490   \n",
       "716  Lenovo IdeaPad Gaming 3 Ryzen 7 Octa Core AMD ...     4.5    ₹73,490   \n",
       "717  ASUS ROG Zephyrus G15 Ryzen 9 Octa Core 6900HS...     NaN  ₹1,94,990   \n",
       "718  ASUS Zenbook Flip 14 OLED (2022) Touch Panel C...     3.0  ₹1,25,990   \n",
       "719  Lenovo Ideapad Slim 3i Core i5 10th Gen - (8 G...     4.2    ₹50,990   \n",
       "\n",
       "                                               Feature  \n",
       "715  Intel Celeron Dual Core Processor4 GB LPDDR4 R...  \n",
       "716  AMD Ryzen 7 Octa Core Processor8 GB DDR4 RAM64...  \n",
       "717  AMD Ryzen 9 Octa Core Processor16 GB DDR5 RAM6...  \n",
       "718  Intel Core i7 Processor (12th Gen)16 GB LPDDR5...  \n",
       "719  Intel Core i5 Processor (10th Gen)8 GB DDR4 RA...  "
      ]
     },
     "execution_count": 5,
     "metadata": {},
     "output_type": "execute_result"
    }
   ],
   "source": [
    "#check end data\n",
    "df.tail()"
   ]
  },
  {
   "cell_type": "code",
   "execution_count": 6,
   "id": "fe24378a",
   "metadata": {},
   "outputs": [
    {
     "data": {
      "text/plain": [
       "(720, 4)"
      ]
     },
     "execution_count": 6,
     "metadata": {},
     "output_type": "execute_result"
    }
   ],
   "source": [
    "#shape of data\n",
    "df.shape"
   ]
  },
  {
   "cell_type": "code",
   "execution_count": 7,
   "id": "02a1d408",
   "metadata": {
    "scrolled": true
   },
   "outputs": [
    {
     "name": "stdout",
     "output_type": "stream",
     "text": [
      "<class 'pandas.core.frame.DataFrame'>\n",
      "RangeIndex: 720 entries, 0 to 719\n",
      "Data columns (total 4 columns):\n",
      " #   Column   Non-Null Count  Dtype  \n",
      "---  ------   --------------  -----  \n",
      " 0   Product  720 non-null    object \n",
      " 1   Rating   581 non-null    float64\n",
      " 2   MRP      720 non-null    object \n",
      " 3   Feature  720 non-null    object \n",
      "dtypes: float64(1), object(3)\n",
      "memory usage: 22.6+ KB\n"
     ]
    }
   ],
   "source": [
    "#info\n",
    "df.info()"
   ]
  },
  {
   "cell_type": "code",
   "execution_count": 8,
   "id": "d2e3d097",
   "metadata": {},
   "outputs": [
    {
     "data": {
      "text/plain": [
       "Product      0\n",
       "Rating     139\n",
       "MRP          0\n",
       "Feature      0\n",
       "dtype: int64"
      ]
     },
     "execution_count": 8,
     "metadata": {},
     "output_type": "execute_result"
    }
   ],
   "source": [
    "#checking null values\n",
    "df.isnull().sum()"
   ]
  },
  {
   "cell_type": "code",
   "execution_count": 9,
   "id": "e0fc0945",
   "metadata": {},
   "outputs": [],
   "source": [
    "#Extracting Brand name\n",
    "import re\n",
    "\n",
    "re_brand = (r\"^[A-Za-z]+\")\n",
    "df[\"Brand\"] = df[\"Product\"].apply(lambda each_product :re.search(re_brand, each_product).group())"
   ]
  },
  {
   "cell_type": "code",
   "execution_count": 10,
   "id": "f236a835",
   "metadata": {},
   "outputs": [],
   "source": [
    "#extracting MRP rate in int format\n",
    "amt = \"₹36,990\""
   ]
  },
  {
   "cell_type": "code",
   "execution_count": 11,
   "id": "419b6871",
   "metadata": {},
   "outputs": [],
   "source": [
    "df[\"MRP\"] = df[\"MRP\"].apply(lambda amt : re.sub(r\"[^0-9.]\", \"\",amt))"
   ]
  },
  {
   "cell_type": "code",
   "execution_count": 12,
   "id": "24b8f6da",
   "metadata": {},
   "outputs": [
    {
     "data": {
      "text/html": [
       "<div>\n",
       "<style scoped>\n",
       "    .dataframe tbody tr th:only-of-type {\n",
       "        vertical-align: middle;\n",
       "    }\n",
       "\n",
       "    .dataframe tbody tr th {\n",
       "        vertical-align: top;\n",
       "    }\n",
       "\n",
       "    .dataframe thead th {\n",
       "        text-align: right;\n",
       "    }\n",
       "</style>\n",
       "<table border=\"1\" class=\"dataframe\">\n",
       "  <thead>\n",
       "    <tr style=\"text-align: right;\">\n",
       "      <th></th>\n",
       "      <th>Product</th>\n",
       "      <th>Rating</th>\n",
       "      <th>MRP</th>\n",
       "      <th>Feature</th>\n",
       "      <th>Brand</th>\n",
       "    </tr>\n",
       "  </thead>\n",
       "  <tbody>\n",
       "    <tr>\n",
       "      <th>0</th>\n",
       "      <td>Lenovo IdeaPad 3 Core i3 11th Gen - (8 GB/256 ...</td>\n",
       "      <td>4.2</td>\n",
       "      <td>36990</td>\n",
       "      <td>Intel Core i3 Processor (11th Gen)8 GB DDR4 RA...</td>\n",
       "      <td>Lenovo</td>\n",
       "    </tr>\n",
       "    <tr>\n",
       "      <th>1</th>\n",
       "      <td>Lenovo IdeaPad 3 Core i3 11th Gen - (8 GB/512 ...</td>\n",
       "      <td>4.2</td>\n",
       "      <td>39990</td>\n",
       "      <td>Intel Core i3 Processor (11th Gen)8 GB DDR4 RA...</td>\n",
       "      <td>Lenovo</td>\n",
       "    </tr>\n",
       "    <tr>\n",
       "      <th>2</th>\n",
       "      <td>ASUS VivoBook 15 (2022) Core i3 10th Gen - (8 ...</td>\n",
       "      <td>4.3</td>\n",
       "      <td>32990</td>\n",
       "      <td>Intel Core i3 Processor (10th Gen)8 GB DDR4 RA...</td>\n",
       "      <td>ASUS</td>\n",
       "    </tr>\n",
       "    <tr>\n",
       "      <th>3</th>\n",
       "      <td>HP Pavilion Ryzen 5 Hexa Core AMD R5-5600H - (...</td>\n",
       "      <td>4.4</td>\n",
       "      <td>49990</td>\n",
       "      <td>AMD Ryzen 5 Hexa Core Processor8 GB DDR4 RAM64...</td>\n",
       "      <td>HP</td>\n",
       "    </tr>\n",
       "    <tr>\n",
       "      <th>4</th>\n",
       "      <td>ASUS TUF Gaming F15 Core i5 10th Gen - (8 GB/5...</td>\n",
       "      <td>4.4</td>\n",
       "      <td>49990</td>\n",
       "      <td>Intel Core i5 Processor (10th Gen)8 GB DDR4 RA...</td>\n",
       "      <td>ASUS</td>\n",
       "    </tr>\n",
       "    <tr>\n",
       "      <th>...</th>\n",
       "      <td>...</td>\n",
       "      <td>...</td>\n",
       "      <td>...</td>\n",
       "      <td>...</td>\n",
       "      <td>...</td>\n",
       "    </tr>\n",
       "    <tr>\n",
       "      <th>715</th>\n",
       "      <td>ASUS Chromebook Flip Touch Celeron Dual Core -...</td>\n",
       "      <td>4.0</td>\n",
       "      <td>23490</td>\n",
       "      <td>Intel Celeron Dual Core Processor4 GB LPDDR4 R...</td>\n",
       "      <td>ASUS</td>\n",
       "    </tr>\n",
       "    <tr>\n",
       "      <th>716</th>\n",
       "      <td>Lenovo IdeaPad Gaming 3 Ryzen 7 Octa Core AMD ...</td>\n",
       "      <td>4.5</td>\n",
       "      <td>73490</td>\n",
       "      <td>AMD Ryzen 7 Octa Core Processor8 GB DDR4 RAM64...</td>\n",
       "      <td>Lenovo</td>\n",
       "    </tr>\n",
       "    <tr>\n",
       "      <th>717</th>\n",
       "      <td>ASUS ROG Zephyrus G15 Ryzen 9 Octa Core 6900HS...</td>\n",
       "      <td>NaN</td>\n",
       "      <td>194990</td>\n",
       "      <td>AMD Ryzen 9 Octa Core Processor16 GB DDR5 RAM6...</td>\n",
       "      <td>ASUS</td>\n",
       "    </tr>\n",
       "    <tr>\n",
       "      <th>718</th>\n",
       "      <td>ASUS Zenbook Flip 14 OLED (2022) Touch Panel C...</td>\n",
       "      <td>3.0</td>\n",
       "      <td>125990</td>\n",
       "      <td>Intel Core i7 Processor (12th Gen)16 GB LPDDR5...</td>\n",
       "      <td>ASUS</td>\n",
       "    </tr>\n",
       "    <tr>\n",
       "      <th>719</th>\n",
       "      <td>Lenovo Ideapad Slim 3i Core i5 10th Gen - (8 G...</td>\n",
       "      <td>4.2</td>\n",
       "      <td>50990</td>\n",
       "      <td>Intel Core i5 Processor (10th Gen)8 GB DDR4 RA...</td>\n",
       "      <td>Lenovo</td>\n",
       "    </tr>\n",
       "  </tbody>\n",
       "</table>\n",
       "<p>720 rows × 5 columns</p>\n",
       "</div>"
      ],
      "text/plain": [
       "                                               Product  Rating     MRP  \\\n",
       "0    Lenovo IdeaPad 3 Core i3 11th Gen - (8 GB/256 ...     4.2   36990   \n",
       "1    Lenovo IdeaPad 3 Core i3 11th Gen - (8 GB/512 ...     4.2   39990   \n",
       "2    ASUS VivoBook 15 (2022) Core i3 10th Gen - (8 ...     4.3   32990   \n",
       "3    HP Pavilion Ryzen 5 Hexa Core AMD R5-5600H - (...     4.4   49990   \n",
       "4    ASUS TUF Gaming F15 Core i5 10th Gen - (8 GB/5...     4.4   49990   \n",
       "..                                                 ...     ...     ...   \n",
       "715  ASUS Chromebook Flip Touch Celeron Dual Core -...     4.0   23490   \n",
       "716  Lenovo IdeaPad Gaming 3 Ryzen 7 Octa Core AMD ...     4.5   73490   \n",
       "717  ASUS ROG Zephyrus G15 Ryzen 9 Octa Core 6900HS...     NaN  194990   \n",
       "718  ASUS Zenbook Flip 14 OLED (2022) Touch Panel C...     3.0  125990   \n",
       "719  Lenovo Ideapad Slim 3i Core i5 10th Gen - (8 G...     4.2   50990   \n",
       "\n",
       "                                               Feature   Brand  \n",
       "0    Intel Core i3 Processor (11th Gen)8 GB DDR4 RA...  Lenovo  \n",
       "1    Intel Core i3 Processor (11th Gen)8 GB DDR4 RA...  Lenovo  \n",
       "2    Intel Core i3 Processor (10th Gen)8 GB DDR4 RA...    ASUS  \n",
       "3    AMD Ryzen 5 Hexa Core Processor8 GB DDR4 RAM64...      HP  \n",
       "4    Intel Core i5 Processor (10th Gen)8 GB DDR4 RA...    ASUS  \n",
       "..                                                 ...     ...  \n",
       "715  Intel Celeron Dual Core Processor4 GB LPDDR4 R...    ASUS  \n",
       "716  AMD Ryzen 7 Octa Core Processor8 GB DDR4 RAM64...  Lenovo  \n",
       "717  AMD Ryzen 9 Octa Core Processor16 GB DDR5 RAM6...    ASUS  \n",
       "718  Intel Core i7 Processor (12th Gen)16 GB LPDDR5...    ASUS  \n",
       "719  Intel Core i5 Processor (10th Gen)8 GB DDR4 RA...  Lenovo  \n",
       "\n",
       "[720 rows x 5 columns]"
      ]
     },
     "execution_count": 12,
     "metadata": {},
     "output_type": "execute_result"
    }
   ],
   "source": [
    "df"
   ]
  },
  {
   "cell_type": "code",
   "execution_count": 13,
   "id": "b127d35a",
   "metadata": {
    "scrolled": true
   },
   "outputs": [],
   "source": [
    "#Extracting features\n"
   ]
  },
  {
   "cell_type": "code",
   "execution_count": 14,
   "id": "56689f6a",
   "metadata": {},
   "outputs": [],
   "source": [
    "re_win = (r\"Linux|Mac|Windows\\s\\d+\")\n",
    "\n",
    "df[\"OS\"] = df[\"Feature\"].apply(lambda each_feature : re.search(re_win, each_feature).group() if re.search(re_win, each_feature) != None else np.NaN)"
   ]
  },
  {
   "cell_type": "code",
   "execution_count": 15,
   "id": "423133d0",
   "metadata": {},
   "outputs": [
    {
     "data": {
      "text/plain": [
       "Windows 11    564\n",
       "Windows 10    126\n",
       "Mac            19\n",
       "Name: OS, dtype: int64"
      ]
     },
     "execution_count": 15,
     "metadata": {},
     "output_type": "execute_result"
    }
   ],
   "source": [
    "df[\"OS\"].value_counts()"
   ]
  },
  {
   "cell_type": "code",
   "execution_count": 16,
   "id": "483c4ce1",
   "metadata": {},
   "outputs": [],
   "source": [
    "re_pc=(r\".*Processor\")\n",
    "\n",
    "df[\"Processor\"] = df[\"Feature\"].apply(lambda each_feature : re.search(re_pc, each_feature).group() if re.search(re_pc, each_feature) != None else np.NaN)"
   ]
  },
  {
   "cell_type": "code",
   "execution_count": 17,
   "id": "29daa996",
   "metadata": {},
   "outputs": [],
   "source": [
    "re_display = r\"\\d\\d.\\d\\d\\scm\"\n",
    "\n",
    "df[\"Display\"] = df[\"Feature\"].apply(lambda each_feature : re.search(re_display, each_feature).group() if re.search(re_display, each_feature) != None else np.NaN)"
   ]
  },
  {
   "cell_type": "code",
   "execution_count": 18,
   "id": "ce24c8e4",
   "metadata": {},
   "outputs": [],
   "source": [
    "re_ram = r\"\\d{1,2}\\sGB\"\n",
    "df[\"RAM\"] = df[\"Feature\"].apply(lambda each_feature : re.search(re_ram,each_feature).group() if re.search(re_ram,each_feature)!= None else np.NaN)"
   ]
  },
  {
   "cell_type": "code",
   "execution_count": 19,
   "id": "11517eb0",
   "metadata": {},
   "outputs": [],
   "source": [
    "re_rt = (r\"DDR[1-9]\")\n",
    "\n",
    "df[\"RAM_Type\"] = df[\"Feature\"].apply(lambda x : re.search(re_rt, x).group() if re.search(re_rt, x) != None else np.NaN)"
   ]
  },
  {
   "cell_type": "code",
   "execution_count": 20,
   "id": "ac52dcd3",
   "metadata": {},
   "outputs": [],
   "source": [
    " re_bit = (r\"\\d{1,2}\\sbit\")\n",
    "\n",
    "df[\"Bit\"] = df[\"Feature\"].apply(lambda x : re.search(re_bit, x).group() if re.search(re_bit, x) != None else np.NaN)"
   ]
  },
  {
   "cell_type": "code",
   "execution_count": 21,
   "id": "aa0b4cae",
   "metadata": {},
   "outputs": [],
   "source": [
    "re_ssd = (r\"(?:\\d{2,})?\\d\\s(?:GB|TB)\\s(?:SSD|HDD)\")\n",
    "\n",
    "df[\"SSD\"] = df[\"Feature\"].apply(lambda x : re.search(re_ssd, x).group() if re.search(re_ssd, x) != None else np.NaN)\n",
    "\n"
   ]
  },
  {
   "cell_type": "code",
   "execution_count": 22,
   "id": "7cabdd51",
   "metadata": {
    "scrolled": false
   },
   "outputs": [
    {
     "data": {
      "text/html": [
       "<div>\n",
       "<style scoped>\n",
       "    .dataframe tbody tr th:only-of-type {\n",
       "        vertical-align: middle;\n",
       "    }\n",
       "\n",
       "    .dataframe tbody tr th {\n",
       "        vertical-align: top;\n",
       "    }\n",
       "\n",
       "    .dataframe thead th {\n",
       "        text-align: right;\n",
       "    }\n",
       "</style>\n",
       "<table border=\"1\" class=\"dataframe\">\n",
       "  <thead>\n",
       "    <tr style=\"text-align: right;\">\n",
       "      <th></th>\n",
       "      <th>Product</th>\n",
       "      <th>Rating</th>\n",
       "      <th>MRP</th>\n",
       "      <th>Feature</th>\n",
       "      <th>Brand</th>\n",
       "      <th>OS</th>\n",
       "      <th>Processor</th>\n",
       "      <th>Display</th>\n",
       "      <th>RAM</th>\n",
       "      <th>RAM_Type</th>\n",
       "      <th>Bit</th>\n",
       "      <th>SSD</th>\n",
       "    </tr>\n",
       "  </thead>\n",
       "  <tbody>\n",
       "    <tr>\n",
       "      <th>0</th>\n",
       "      <td>Lenovo IdeaPad 3 Core i3 11th Gen - (8 GB/256 ...</td>\n",
       "      <td>4.2</td>\n",
       "      <td>36990</td>\n",
       "      <td>Intel Core i3 Processor (11th Gen)8 GB DDR4 RA...</td>\n",
       "      <td>Lenovo</td>\n",
       "      <td>Windows 11</td>\n",
       "      <td>Intel Core i3 Processor</td>\n",
       "      <td>35.56 cm</td>\n",
       "      <td>8 GB</td>\n",
       "      <td>DDR4</td>\n",
       "      <td>64 bit</td>\n",
       "      <td>256 GB SSD</td>\n",
       "    </tr>\n",
       "    <tr>\n",
       "      <th>1</th>\n",
       "      <td>Lenovo IdeaPad 3 Core i3 11th Gen - (8 GB/512 ...</td>\n",
       "      <td>4.2</td>\n",
       "      <td>39990</td>\n",
       "      <td>Intel Core i3 Processor (11th Gen)8 GB DDR4 RA...</td>\n",
       "      <td>Lenovo</td>\n",
       "      <td>Windows 11</td>\n",
       "      <td>Intel Core i3 Processor</td>\n",
       "      <td>39.62 cm</td>\n",
       "      <td>8 GB</td>\n",
       "      <td>DDR4</td>\n",
       "      <td>64 bit</td>\n",
       "      <td>512 GB SSD</td>\n",
       "    </tr>\n",
       "    <tr>\n",
       "      <th>2</th>\n",
       "      <td>ASUS VivoBook 15 (2022) Core i3 10th Gen - (8 ...</td>\n",
       "      <td>4.3</td>\n",
       "      <td>32990</td>\n",
       "      <td>Intel Core i3 Processor (10th Gen)8 GB DDR4 RA...</td>\n",
       "      <td>ASUS</td>\n",
       "      <td>Windows 11</td>\n",
       "      <td>Intel Core i3 Processor</td>\n",
       "      <td>39.62 cm</td>\n",
       "      <td>8 GB</td>\n",
       "      <td>DDR4</td>\n",
       "      <td>64 bit</td>\n",
       "      <td>512 GB SSD</td>\n",
       "    </tr>\n",
       "    <tr>\n",
       "      <th>3</th>\n",
       "      <td>HP Pavilion Ryzen 5 Hexa Core AMD R5-5600H - (...</td>\n",
       "      <td>4.4</td>\n",
       "      <td>49990</td>\n",
       "      <td>AMD Ryzen 5 Hexa Core Processor8 GB DDR4 RAM64...</td>\n",
       "      <td>HP</td>\n",
       "      <td>Windows 10</td>\n",
       "      <td>AMD Ryzen 5 Hexa Core Processor</td>\n",
       "      <td>39.62 cm</td>\n",
       "      <td>8 GB</td>\n",
       "      <td>DDR4</td>\n",
       "      <td>64 bit</td>\n",
       "      <td>512 GB SSD</td>\n",
       "    </tr>\n",
       "    <tr>\n",
       "      <th>4</th>\n",
       "      <td>ASUS TUF Gaming F15 Core i5 10th Gen - (8 GB/5...</td>\n",
       "      <td>4.4</td>\n",
       "      <td>49990</td>\n",
       "      <td>Intel Core i5 Processor (10th Gen)8 GB DDR4 RA...</td>\n",
       "      <td>ASUS</td>\n",
       "      <td>Windows 11</td>\n",
       "      <td>Intel Core i5 Processor</td>\n",
       "      <td>39.62 cm</td>\n",
       "      <td>8 GB</td>\n",
       "      <td>DDR4</td>\n",
       "      <td>NaN</td>\n",
       "      <td>512 GB SSD</td>\n",
       "    </tr>\n",
       "    <tr>\n",
       "      <th>...</th>\n",
       "      <td>...</td>\n",
       "      <td>...</td>\n",
       "      <td>...</td>\n",
       "      <td>...</td>\n",
       "      <td>...</td>\n",
       "      <td>...</td>\n",
       "      <td>...</td>\n",
       "      <td>...</td>\n",
       "      <td>...</td>\n",
       "      <td>...</td>\n",
       "      <td>...</td>\n",
       "      <td>...</td>\n",
       "    </tr>\n",
       "    <tr>\n",
       "      <th>715</th>\n",
       "      <td>ASUS Chromebook Flip Touch Celeron Dual Core -...</td>\n",
       "      <td>4.0</td>\n",
       "      <td>23490</td>\n",
       "      <td>Intel Celeron Dual Core Processor4 GB LPDDR4 R...</td>\n",
       "      <td>ASUS</td>\n",
       "      <td>NaN</td>\n",
       "      <td>Intel Celeron Dual Core Processor</td>\n",
       "      <td>29.46 cm</td>\n",
       "      <td>4 GB</td>\n",
       "      <td>DDR4</td>\n",
       "      <td>NaN</td>\n",
       "      <td>NaN</td>\n",
       "    </tr>\n",
       "    <tr>\n",
       "      <th>716</th>\n",
       "      <td>Lenovo IdeaPad Gaming 3 Ryzen 7 Octa Core AMD ...</td>\n",
       "      <td>4.5</td>\n",
       "      <td>73490</td>\n",
       "      <td>AMD Ryzen 7 Octa Core Processor8 GB DDR4 RAM64...</td>\n",
       "      <td>Lenovo</td>\n",
       "      <td>Windows 11</td>\n",
       "      <td>AMD Ryzen 7 Octa Core Processor</td>\n",
       "      <td>39.62 cm</td>\n",
       "      <td>8 GB</td>\n",
       "      <td>DDR4</td>\n",
       "      <td>64 bit</td>\n",
       "      <td>512 GB SSD</td>\n",
       "    </tr>\n",
       "    <tr>\n",
       "      <th>717</th>\n",
       "      <td>ASUS ROG Zephyrus G15 Ryzen 9 Octa Core 6900HS...</td>\n",
       "      <td>NaN</td>\n",
       "      <td>194990</td>\n",
       "      <td>AMD Ryzen 9 Octa Core Processor16 GB DDR5 RAM6...</td>\n",
       "      <td>ASUS</td>\n",
       "      <td>Windows 11</td>\n",
       "      <td>AMD Ryzen 9 Octa Core Processor</td>\n",
       "      <td>39.62 cm</td>\n",
       "      <td>16 GB</td>\n",
       "      <td>DDR5</td>\n",
       "      <td>64 bit</td>\n",
       "      <td>1 TB SSD</td>\n",
       "    </tr>\n",
       "    <tr>\n",
       "      <th>718</th>\n",
       "      <td>ASUS Zenbook Flip 14 OLED (2022) Touch Panel C...</td>\n",
       "      <td>3.0</td>\n",
       "      <td>125990</td>\n",
       "      <td>Intel Core i7 Processor (12th Gen)16 GB LPDDR5...</td>\n",
       "      <td>ASUS</td>\n",
       "      <td>Windows 11</td>\n",
       "      <td>Intel Core i7 Processor</td>\n",
       "      <td>35.56 cm</td>\n",
       "      <td>16 GB</td>\n",
       "      <td>DDR5</td>\n",
       "      <td>64 bit</td>\n",
       "      <td>512 GB SSD</td>\n",
       "    </tr>\n",
       "    <tr>\n",
       "      <th>719</th>\n",
       "      <td>Lenovo Ideapad Slim 3i Core i5 10th Gen - (8 G...</td>\n",
       "      <td>4.2</td>\n",
       "      <td>50990</td>\n",
       "      <td>Intel Core i5 Processor (10th Gen)8 GB DDR4 RA...</td>\n",
       "      <td>Lenovo</td>\n",
       "      <td>Windows 10</td>\n",
       "      <td>Intel Core i5 Processor</td>\n",
       "      <td>39.62 cm</td>\n",
       "      <td>8 GB</td>\n",
       "      <td>DDR4</td>\n",
       "      <td>64 bit</td>\n",
       "      <td>1 TB HDD</td>\n",
       "    </tr>\n",
       "  </tbody>\n",
       "</table>\n",
       "<p>720 rows × 12 columns</p>\n",
       "</div>"
      ],
      "text/plain": [
       "                                               Product  Rating     MRP  \\\n",
       "0    Lenovo IdeaPad 3 Core i3 11th Gen - (8 GB/256 ...     4.2   36990   \n",
       "1    Lenovo IdeaPad 3 Core i3 11th Gen - (8 GB/512 ...     4.2   39990   \n",
       "2    ASUS VivoBook 15 (2022) Core i3 10th Gen - (8 ...     4.3   32990   \n",
       "3    HP Pavilion Ryzen 5 Hexa Core AMD R5-5600H - (...     4.4   49990   \n",
       "4    ASUS TUF Gaming F15 Core i5 10th Gen - (8 GB/5...     4.4   49990   \n",
       "..                                                 ...     ...     ...   \n",
       "715  ASUS Chromebook Flip Touch Celeron Dual Core -...     4.0   23490   \n",
       "716  Lenovo IdeaPad Gaming 3 Ryzen 7 Octa Core AMD ...     4.5   73490   \n",
       "717  ASUS ROG Zephyrus G15 Ryzen 9 Octa Core 6900HS...     NaN  194990   \n",
       "718  ASUS Zenbook Flip 14 OLED (2022) Touch Panel C...     3.0  125990   \n",
       "719  Lenovo Ideapad Slim 3i Core i5 10th Gen - (8 G...     4.2   50990   \n",
       "\n",
       "                                               Feature   Brand          OS  \\\n",
       "0    Intel Core i3 Processor (11th Gen)8 GB DDR4 RA...  Lenovo  Windows 11   \n",
       "1    Intel Core i3 Processor (11th Gen)8 GB DDR4 RA...  Lenovo  Windows 11   \n",
       "2    Intel Core i3 Processor (10th Gen)8 GB DDR4 RA...    ASUS  Windows 11   \n",
       "3    AMD Ryzen 5 Hexa Core Processor8 GB DDR4 RAM64...      HP  Windows 10   \n",
       "4    Intel Core i5 Processor (10th Gen)8 GB DDR4 RA...    ASUS  Windows 11   \n",
       "..                                                 ...     ...         ...   \n",
       "715  Intel Celeron Dual Core Processor4 GB LPDDR4 R...    ASUS         NaN   \n",
       "716  AMD Ryzen 7 Octa Core Processor8 GB DDR4 RAM64...  Lenovo  Windows 11   \n",
       "717  AMD Ryzen 9 Octa Core Processor16 GB DDR5 RAM6...    ASUS  Windows 11   \n",
       "718  Intel Core i7 Processor (12th Gen)16 GB LPDDR5...    ASUS  Windows 11   \n",
       "719  Intel Core i5 Processor (10th Gen)8 GB DDR4 RA...  Lenovo  Windows 10   \n",
       "\n",
       "                             Processor   Display    RAM RAM_Type     Bit  \\\n",
       "0              Intel Core i3 Processor  35.56 cm   8 GB     DDR4  64 bit   \n",
       "1              Intel Core i3 Processor  39.62 cm   8 GB     DDR4  64 bit   \n",
       "2              Intel Core i3 Processor  39.62 cm   8 GB     DDR4  64 bit   \n",
       "3      AMD Ryzen 5 Hexa Core Processor  39.62 cm   8 GB     DDR4  64 bit   \n",
       "4              Intel Core i5 Processor  39.62 cm   8 GB     DDR4     NaN   \n",
       "..                                 ...       ...    ...      ...     ...   \n",
       "715  Intel Celeron Dual Core Processor  29.46 cm   4 GB     DDR4     NaN   \n",
       "716    AMD Ryzen 7 Octa Core Processor  39.62 cm   8 GB     DDR4  64 bit   \n",
       "717    AMD Ryzen 9 Octa Core Processor  39.62 cm  16 GB     DDR5  64 bit   \n",
       "718            Intel Core i7 Processor  35.56 cm  16 GB     DDR5  64 bit   \n",
       "719            Intel Core i5 Processor  39.62 cm   8 GB     DDR4  64 bit   \n",
       "\n",
       "            SSD  \n",
       "0    256 GB SSD  \n",
       "1    512 GB SSD  \n",
       "2    512 GB SSD  \n",
       "3    512 GB SSD  \n",
       "4    512 GB SSD  \n",
       "..          ...  \n",
       "715         NaN  \n",
       "716  512 GB SSD  \n",
       "717    1 TB SSD  \n",
       "718  512 GB SSD  \n",
       "719    1 TB HDD  \n",
       "\n",
       "[720 rows x 12 columns]"
      ]
     },
     "execution_count": 22,
     "metadata": {},
     "output_type": "execute_result"
    }
   ],
   "source": [
    "df"
   ]
  },
  {
   "cell_type": "code",
   "execution_count": 23,
   "id": "f39f40fb",
   "metadata": {},
   "outputs": [],
   "source": [
    "#dropping unwanted columns\n",
    "df.drop(\"Feature\", axis=1, inplace=True)"
   ]
  },
  {
   "cell_type": "code",
   "execution_count": 24,
   "id": "69d4a710",
   "metadata": {},
   "outputs": [],
   "source": [
    "df.drop(\"Product\", axis=1, inplace = True)"
   ]
  },
  {
   "cell_type": "code",
   "execution_count": 25,
   "id": "24032514",
   "metadata": {},
   "outputs": [],
   "source": [
    "df.drop(\"Rating\", axis =1, inplace=True)"
   ]
  },
  {
   "cell_type": "code",
   "execution_count": 26,
   "id": "7ffc6426",
   "metadata": {},
   "outputs": [],
   "source": [
    "df.drop(\"Brand\", axis=1, inplace=True)"
   ]
  },
  {
   "cell_type": "code",
   "execution_count": 27,
   "id": "257cfa22",
   "metadata": {},
   "outputs": [],
   "source": [
    "df[\"Processors\"]  = df[\"Processor\"].apply(lambda x:\" \".join(x.split()[0:3]))"
   ]
  },
  {
   "cell_type": "code",
   "execution_count": 28,
   "id": "7460fbcb",
   "metadata": {},
   "outputs": [],
   "source": [
    "def fetch_processors(text):\n",
    "    if text == 'Intel Core i7' or text == 'Intel Core i5' or text == 'Intel Core i3':\n",
    "        return text\n",
    "    else:\n",
    "        if text.split()[0] == 'Intel':\n",
    "            return 'Other Intel Processor'\n",
    "        else:\n",
    "            return 'AMD Processor'"
   ]
  },
  {
   "cell_type": "code",
   "execution_count": 29,
   "id": "6636999b",
   "metadata": {},
   "outputs": [],
   "source": [
    "df[\"Processor\"] = df[\"Processors\"].apply(fetch_processors)"
   ]
  },
  {
   "cell_type": "code",
   "execution_count": 30,
   "id": "37341ae4",
   "metadata": {},
   "outputs": [],
   "source": [
    "#dropped processors column\n",
    "df.drop(\"Processors\", axis=1, inplace=True)"
   ]
  },
  {
   "cell_type": "code",
   "execution_count": 31,
   "id": "a561ba04",
   "metadata": {},
   "outputs": [
    {
     "data": {
      "image/png": "[encoded data removed]",
      "text/plain": [
       "<Figure size 432x288 with 1 Axes>"
      ]
     },
     "metadata": {
      "needs_background": "light"
     },
     "output_type": "display_data"
    }
   ],
   "source": [
    "#plotting bar graph for unique value count in feature column\n",
    "df[\"Processor\"].value_counts().plot(kind='bar')\n",
    "plt.show()"
   ]
  },
  {
   "cell_type": "code",
   "execution_count": 32,
   "id": "184bcf59",
   "metadata": {},
   "outputs": [
    {
     "data": {
      "image/png": "[encoded data removed]",
      "text/plain": [
       "<Figure size 432x288 with 1 Axes>"
      ]
     },
     "metadata": {
      "needs_background": "light"
     },
     "output_type": "display_data"
    }
   ],
   "source": [
    "#checking unique values\n",
    "df[\"RAM\"].value_counts().plot(kind='bar')\n",
    "plt.show()"
   ]
  },
  {
   "cell_type": "code",
   "execution_count": 33,
   "id": "810aad55",
   "metadata": {
    "scrolled": true
   },
   "outputs": [
    {
     "data": {
      "image/png": "[encoded data removed]",
      "text/plain": [
       "<Figure size 432x288 with 1 Axes>"
      ]
     },
     "metadata": {
      "needs_background": "light"
     },
     "output_type": "display_data"
    }
   ],
   "source": [
    "df[\"OS\"].value_counts().plot(kind='bar')\n",
    "plt.show()"
   ]
  },
  {
   "cell_type": "code",
   "execution_count": 34,
   "id": "e2845257",
   "metadata": {},
   "outputs": [
    {
     "data": {
      "image/png": "[encoded data removed]",
      "text/plain": [
       "<Figure size 432x288 with 1 Axes>"
      ]
     },
     "metadata": {
      "needs_background": "light"
     },
     "output_type": "display_data"
    }
   ],
   "source": [
    "df[\"RAM_Type\"].value_counts().plot(kind='bar')\n",
    "plt.show()"
   ]
  },
  {
   "cell_type": "code",
   "execution_count": 35,
   "id": "285bfa79",
   "metadata": {
    "scrolled": true
   },
   "outputs": [
    {
     "data": {
      "image/png": "[encoded data removed]",
      "text/plain": [
       "<Figure size 432x288 with 1 Axes>"
      ]
     },
     "metadata": {
      "needs_background": "light"
     },
     "output_type": "display_data"
    }
   ],
   "source": [
    "df[\"Bit\"].value_counts().plot(kind='bar')\n",
    "plt.show()"
   ]
  },
  {
   "cell_type": "code",
   "execution_count": 36,
   "id": "911f5c65",
   "metadata": {
    "scrolled": true
   },
   "outputs": [
    {
     "data": {
      "image/png": "[encoded data removed]",
      "text/plain": [
       "<Figure size 432x288 with 1 Axes>"
      ]
     },
     "metadata": {
      "needs_background": "light"
     },
     "output_type": "display_data"
    }
   ],
   "source": [
    "df[\"SSD\"].value_counts().plot(kind='bar')\n",
    "plt.show()"
   ]
  },
  {
   "cell_type": "code",
   "execution_count": 37,
   "id": "36b6c299",
   "metadata": {},
   "outputs": [
    {
     "data": {
      "text/plain": [
       "<AxesSubplot:>"
      ]
     },
     "execution_count": 37,
     "metadata": {},
     "output_type": "execute_result"
    },
    {
     "data": {
      "image/png": "[encoded data removed]",
      "text/plain": [
       "<Figure size 432x288 with 1 Axes>"
      ]
     },
     "metadata": {
      "needs_background": "light"
     },
     "output_type": "display_data"
    }
   ],
   "source": [
    "df[\"Display\"].value_counts().plot(kind='bar')\n"
   ]
  },
  {
   "cell_type": "code",
   "execution_count": 38,
   "id": "bc903f19",
   "metadata": {},
   "outputs": [],
   "source": [
    "## removing extra strings in columns\n",
    "\n",
    "df[\"RAM\"] = df[\"RAM\"].str.strip(\"GB\")\n"
   ]
  },
  {
   "cell_type": "code",
   "execution_count": 39,
   "id": "3e214634",
   "metadata": {},
   "outputs": [],
   "source": [
    "df[\"Bit\"] = df[\"Bit\"].str.strip(\"bit\")"
   ]
  },
  {
   "cell_type": "code",
   "execution_count": 40,
   "id": "803f43b3",
   "metadata": {},
   "outputs": [],
   "source": [
    "df[\"Display\"] = df[\"Display\"].str.strip(\"cm\")"
   ]
  },
  {
   "cell_type": "code",
   "execution_count": 41,
   "id": "23c0c9ed",
   "metadata": {},
   "outputs": [],
   "source": [
    "df[\"SSD\"] = df[\"SSD\"].str.strip(\"GB SSD & GB HDD & TB HDD & TB SDD\")"
   ]
  },
  {
   "cell_type": "code",
   "execution_count": 42,
   "id": "a205d981",
   "metadata": {},
   "outputs": [],
   "source": [
    "df[\"Processor\"] = df[\"Processor\"].str.strip(\"Processor\")"
   ]
  },
  {
   "cell_type": "code",
   "execution_count": 43,
   "id": "67ce814c",
   "metadata": {},
   "outputs": [
    {
     "data": {
      "text/plain": [
       "MRP           0.000000\n",
       "OS            1.527778\n",
       "Processor     0.000000\n",
       "Display       0.972222\n",
       "RAM           0.000000\n",
       "RAM_Type      1.666667\n",
       "Bit          27.083333\n",
       "SSD           1.388889\n",
       "dtype: float64"
      ]
     },
     "execution_count": 43,
     "metadata": {},
     "output_type": "execute_result"
    }
   ],
   "source": [
    "## checking nul values percentage\n",
    "\n",
    "(df.isnull().sum()/len(df))*100"
   ]
  },
  {
   "cell_type": "code",
   "execution_count": 44,
   "id": "78a00c94",
   "metadata": {},
   "outputs": [],
   "source": [
    "#filling cat values with mode()\n",
    "\n",
    "df[\"OS\"] = df[\"OS\"].fillna(df[\"OS\"].mode()[0])"
   ]
  },
  {
   "cell_type": "code",
   "execution_count": 45,
   "id": "0d38fe42",
   "metadata": {},
   "outputs": [],
   "source": [
    "df[\"Bit\"] = df[\"Bit\"].fillna(df[\"Bit\"].mode()[0])"
   ]
  },
  {
   "cell_type": "code",
   "execution_count": 46,
   "id": "d217cee8",
   "metadata": {},
   "outputs": [],
   "source": [
    "df[\"SSD\"] = df[\"SSD\"].fillna(df[\"SSD\"].mode()[0])"
   ]
  },
  {
   "cell_type": "code",
   "execution_count": 47,
   "id": "01c40759",
   "metadata": {},
   "outputs": [],
   "source": [
    "df['RAM_Type'] = df[\"RAM_Type\"].fillna(df[\"RAM_Type\"].mode()[0])"
   ]
  },
  {
   "cell_type": "code",
   "execution_count": 48,
   "id": "39ffc3dc",
   "metadata": {},
   "outputs": [
    {
     "data": {
      "text/plain": [
       "OS          False\n",
       "Bit         False\n",
       "SSD         False\n",
       "RAM_Type    False\n",
       "dtype: bool"
      ]
     },
     "execution_count": 48,
     "metadata": {},
     "output_type": "execute_result"
    }
   ],
   "source": [
    "#checking null values for cat columns\n",
    "df.loc[:,['OS','Bit','SSD','RAM_Type']].isnull().any()\n"
   ]
  },
  {
   "cell_type": "code",
   "execution_count": 49,
   "id": "169557d1",
   "metadata": {},
   "outputs": [
    {
     "data": {
      "text/plain": [
       "MRP          object\n",
       "OS           object\n",
       "Processor    object\n",
       "Display      object\n",
       "RAM          object\n",
       "RAM_Type     object\n",
       "Bit          object\n",
       "SSD          object\n",
       "dtype: object"
      ]
     },
     "execution_count": 49,
     "metadata": {},
     "output_type": "execute_result"
    }
   ],
   "source": [
    "#datatype of columns\n",
    "\n",
    "df.dtypes"
   ]
  },
  {
   "cell_type": "code",
   "execution_count": 50,
   "id": "3197907b",
   "metadata": {},
   "outputs": [],
   "source": [
    "#converting Diaplay,RAM to numeric\n",
    "\n",
    "\n",
    "df[\"MRP\"] = pd.to_numeric(df[\"MRP\"], errors=\"coerce\")\n"
   ]
  },
  {
   "cell_type": "code",
   "execution_count": 51,
   "id": "5bcc5d7f",
   "metadata": {},
   "outputs": [],
   "source": [
    "df[\"Display\"] = pd.to_numeric(df[\"Display\"], errors=\"coerce\")"
   ]
  },
  {
   "cell_type": "code",
   "execution_count": 52,
   "id": "60766654",
   "metadata": {},
   "outputs": [
    {
     "data": {
      "text/plain": [
       "MRP            int64\n",
       "OS            object\n",
       "Processor     object\n",
       "Display      float64\n",
       "RAM           object\n",
       "RAM_Type      object\n",
       "Bit           object\n",
       "SSD           object\n",
       "dtype: object"
      ]
     },
     "execution_count": 52,
     "metadata": {},
     "output_type": "execute_result"
    }
   ],
   "source": [
    "df.dtypes"
   ]
  },
  {
   "cell_type": "code",
   "execution_count": 53,
   "id": "d9e55d07",
   "metadata": {},
   "outputs": [
    {
     "data": {
      "text/plain": [
       "'Windows 11'"
      ]
     },
     "execution_count": 53,
     "metadata": {},
     "output_type": "execute_result"
    }
   ],
   "source": [
    "#Checking correlation blw numerical values with price\n",
    "df[\"OS\"][715]"
   ]
  },
  {
   "cell_type": "code",
   "execution_count": 54,
   "id": "129e3e6f",
   "metadata": {},
   "outputs": [
    {
     "name": "stdout",
     "output_type": "stream",
     "text": [
      "<class 'pandas.core.frame.DataFrame'>\n",
      "RangeIndex: 720 entries, 0 to 719\n",
      "Data columns (total 8 columns):\n",
      " #   Column     Non-Null Count  Dtype  \n",
      "---  ------     --------------  -----  \n",
      " 0   MRP        720 non-null    int64  \n",
      " 1   OS         720 non-null    object \n",
      " 2   Processor  720 non-null    object \n",
      " 3   Display    713 non-null    float64\n",
      " 4   RAM        720 non-null    object \n",
      " 5   RAM_Type   720 non-null    object \n",
      " 6   Bit        720 non-null    object \n",
      " 7   SSD        720 non-null    object \n",
      "dtypes: float64(1), int64(1), object(6)\n",
      "memory usage: 45.1+ KB\n"
     ]
    }
   ],
   "source": [
    "df.info()"
   ]
  },
  {
   "cell_type": "code",
   "execution_count": 55,
   "id": "ae059287",
   "metadata": {
    "scrolled": true
   },
   "outputs": [
    {
     "data": {
      "text/plain": [
       "MRP        1.000000\n",
       "Display    0.259611\n",
       "Name: MRP, dtype: float64"
      ]
     },
     "execution_count": 55,
     "metadata": {},
     "output_type": "execute_result"
    }
   ],
   "source": [
    "#correlation b/w numerical columns with target column\n",
    "df.corr()['MRP']"
   ]
  },
  {
   "cell_type": "code",
   "execution_count": 56,
   "id": "25aef385",
   "metadata": {},
   "outputs": [
    {
     "data": {
      "text/plain": [
       "<AxesSubplot:>"
      ]
     },
     "execution_count": 56,
     "metadata": {},
     "output_type": "execute_result"
    },
    {
     "data": {
      "image/png": "[encoded data removed]",
      "text/plain": [
       "<Figure size 432x288 with 2 Axes>"
      ]
     },
     "metadata": {
      "needs_background": "light"
     },
     "output_type": "display_data"
    }
   ],
   "source": [
    "sns.heatmap(df.corr(), annot=True)"
   ]
  },
  {
   "cell_type": "markdown",
   "id": "639d5dec",
   "metadata": {},
   "source": [
    "###### Here Display is negatively correlated to MRP"
   ]
  },
  {
   "cell_type": "code",
   "execution_count": 57,
   "id": "a3be54b6",
   "metadata": {
    "scrolled": true
   },
   "outputs": [
    {
     "name": "stderr",
     "output_type": "stream",
     "text": [
      "C:\\Users\\91932\\anaconda3\\lib\\site-packages\\seaborn\\_decorators.py:36: FutureWarning: Pass the following variable as a keyword arg: x. From version 0.12, the only valid positional argument will be `data`, and passing other arguments without an explicit keyword will result in an error or misinterpretation.\n",
      "  warnings.warn(\n"
     ]
    },
    {
     "data": {
      "image/png": "[encoded data removed]",
      "text/plain": [
       "<Figure size 432x288 with 1 Axes>"
      ]
     },
     "metadata": {
      "needs_background": "light"
     },
     "output_type": "display_data"
    }
   ],
   "source": [
    "#checking display column nan value percentage\n",
    "sns.boxplot(df[\"Display\"])\n",
    "plt.show()"
   ]
  },
  {
   "cell_type": "code",
   "execution_count": 58,
   "id": "09c91da1",
   "metadata": {},
   "outputs": [],
   "source": [
    "def find_outliers(data, col, verbose=True):\n",
    "    q1 = data[col].quantile(0.25)\n",
    "    q3 = data[col].quantile(0.75)\n",
    "    IQR = q3 - q1\n",
    "    lower_boundary = q1 - (1.5*IQR)\n",
    "    upper_boundary = q3 + (1.5*IQR)\n",
    "    outliers_df = data[(data[col]<lower_boundary) | (data[col]>upper_boundary)]\n",
    "  \n",
    "    if(verbose):\n",
    "        print(\"Lower Boundary :\",lower_boundary, \"Upper Boundary :\",upper_boundary)\n",
    "        display(outliers_df)\n",
    "        print(\"Outliers Percentage ::\", (len(outliers_df)/len(data)) * 100, \"%\")\n",
    "        print(len(outliers_df))\n",
    "    return outliers_df"
   ]
  },
  {
   "cell_type": "code",
   "execution_count": 59,
   "id": "0c15f888",
   "metadata": {
    "scrolled": false
   },
   "outputs": [
    {
     "name": "stdout",
     "output_type": "stream",
     "text": [
      "Lower Boundary : 30.745000000000005 Upper Boundary : 44.94499999999999\n"
     ]
    },
    {
     "data": {
      "text/html": [
       "<div>\n",
       "<style scoped>\n",
       "    .dataframe tbody tr th:only-of-type {\n",
       "        vertical-align: middle;\n",
       "    }\n",
       "\n",
       "    .dataframe tbody tr th {\n",
       "        vertical-align: top;\n",
       "    }\n",
       "\n",
       "    .dataframe thead th {\n",
       "        text-align: right;\n",
       "    }\n",
       "</style>\n",
       "<table border=\"1\" class=\"dataframe\">\n",
       "  <thead>\n",
       "    <tr style=\"text-align: right;\">\n",
       "      <th></th>\n",
       "      <th>MRP</th>\n",
       "      <th>OS</th>\n",
       "      <th>Processor</th>\n",
       "      <th>Display</th>\n",
       "      <th>RAM</th>\n",
       "      <th>RAM_Type</th>\n",
       "      <th>Bit</th>\n",
       "      <th>SSD</th>\n",
       "    </tr>\n",
       "  </thead>\n",
       "  <tbody>\n",
       "    <tr>\n",
       "      <th>345</th>\n",
       "      <td>14990</td>\n",
       "      <td>Windows 11</td>\n",
       "      <td>Other Intel</td>\n",
       "      <td>29.46</td>\n",
       "      <td>4</td>\n",
       "      <td>DDR4</td>\n",
       "      <td>64</td>\n",
       "      <td>512</td>\n",
       "    </tr>\n",
       "    <tr>\n",
       "      <th>434</th>\n",
       "      <td>26490</td>\n",
       "      <td>Windows 10</td>\n",
       "      <td>Other Intel</td>\n",
       "      <td>29.46</td>\n",
       "      <td>4</td>\n",
       "      <td>DDR4</td>\n",
       "      <td>64</td>\n",
       "      <td>256</td>\n",
       "    </tr>\n",
       "    <tr>\n",
       "      <th>479</th>\n",
       "      <td>29980</td>\n",
       "      <td>Windows 11</td>\n",
       "      <td>Other Intel</td>\n",
       "      <td>29.46</td>\n",
       "      <td>4</td>\n",
       "      <td>DDR4</td>\n",
       "      <td>64</td>\n",
       "      <td>128</td>\n",
       "    </tr>\n",
       "    <tr>\n",
       "      <th>494</th>\n",
       "      <td>29980</td>\n",
       "      <td>Windows 11</td>\n",
       "      <td>Other Intel</td>\n",
       "      <td>29.46</td>\n",
       "      <td>4</td>\n",
       "      <td>DDR4</td>\n",
       "      <td>64</td>\n",
       "      <td>128</td>\n",
       "    </tr>\n",
       "    <tr>\n",
       "      <th>544</th>\n",
       "      <td>21990</td>\n",
       "      <td>Windows 11</td>\n",
       "      <td>Other Intel</td>\n",
       "      <td>29.46</td>\n",
       "      <td>4</td>\n",
       "      <td>DDR4</td>\n",
       "      <td>64</td>\n",
       "      <td>512</td>\n",
       "    </tr>\n",
       "    <tr>\n",
       "      <th>559</th>\n",
       "      <td>19990</td>\n",
       "      <td>Windows 11</td>\n",
       "      <td>Other Intel</td>\n",
       "      <td>29.46</td>\n",
       "      <td>4</td>\n",
       "      <td>DDR4</td>\n",
       "      <td>64</td>\n",
       "      <td>512</td>\n",
       "    </tr>\n",
       "    <tr>\n",
       "      <th>632</th>\n",
       "      <td>28490</td>\n",
       "      <td>Windows 11</td>\n",
       "      <td>Other Intel</td>\n",
       "      <td>29.46</td>\n",
       "      <td>4</td>\n",
       "      <td>DDR4</td>\n",
       "      <td>64</td>\n",
       "      <td>512</td>\n",
       "    </tr>\n",
       "    <tr>\n",
       "      <th>638</th>\n",
       "      <td>23250</td>\n",
       "      <td>Windows 11</td>\n",
       "      <td>Other Intel</td>\n",
       "      <td>29.46</td>\n",
       "      <td>4</td>\n",
       "      <td>DDR4</td>\n",
       "      <td>64</td>\n",
       "      <td>256</td>\n",
       "    </tr>\n",
       "    <tr>\n",
       "      <th>715</th>\n",
       "      <td>23490</td>\n",
       "      <td>Windows 11</td>\n",
       "      <td>Other Intel</td>\n",
       "      <td>29.46</td>\n",
       "      <td>4</td>\n",
       "      <td>DDR4</td>\n",
       "      <td>64</td>\n",
       "      <td>512</td>\n",
       "    </tr>\n",
       "  </tbody>\n",
       "</table>\n",
       "</div>"
      ],
      "text/plain": [
       "       MRP          OS     Processor  Display RAM RAM_Type  Bit  SSD\n",
       "345  14990  Windows 11  Other Intel     29.46  4      DDR4  64   512\n",
       "434  26490  Windows 10  Other Intel     29.46  4      DDR4  64   256\n",
       "479  29980  Windows 11  Other Intel     29.46  4      DDR4  64   128\n",
       "494  29980  Windows 11  Other Intel     29.46  4      DDR4  64   128\n",
       "544  21990  Windows 11  Other Intel     29.46  4      DDR4  64   512\n",
       "559  19990  Windows 11  Other Intel     29.46  4      DDR4  64   512\n",
       "632  28490  Windows 11  Other Intel     29.46  4      DDR4  64   512\n",
       "638  23250  Windows 11  Other Intel     29.46  4      DDR4  64   256\n",
       "715  23490  Windows 11  Other Intel     29.46  4      DDR4  64   512"
      ]
     },
     "metadata": {},
     "output_type": "display_data"
    },
    {
     "name": "stdout",
     "output_type": "stream",
     "text": [
      "Outliers Percentage :: 1.25 %\n",
      "9\n"
     ]
    }
   ],
   "source": [
    "outliers = find_outliers(df, \"Display\")"
   ]
  },
  {
   "cell_type": "code",
   "execution_count": 60,
   "id": "32d5da52",
   "metadata": {},
   "outputs": [],
   "source": [
    "df[\"Display\"].fillna(df[\"Display\"].median(), inplace=True)"
   ]
  },
  {
   "cell_type": "code",
   "execution_count": 61,
   "id": "dfca3cd4",
   "metadata": {},
   "outputs": [
    {
     "data": {
      "text/plain": [
       "MRP          0\n",
       "OS           0\n",
       "Processor    0\n",
       "Display      0\n",
       "RAM          0\n",
       "RAM_Type     0\n",
       "Bit          0\n",
       "SSD          0\n",
       "dtype: int64"
      ]
     },
     "execution_count": 61,
     "metadata": {},
     "output_type": "execute_result"
    }
   ],
   "source": [
    "#checking sum of nan values\n",
    "df.isnull().sum()"
   ]
  },
  {
   "cell_type": "code",
   "execution_count": 62,
   "id": "33705566",
   "metadata": {
    "scrolled": true
   },
   "outputs": [
    {
     "data": {
      "image/png": "[encoded data removed]",
      "text/plain": [
       "<Figure size 432x288 with 1 Axes>"
      ]
     },
     "metadata": {
      "needs_background": "light"
     },
     "output_type": "display_data"
    }
   ],
   "source": [
    "#check data visualization  between feature columns with MRP\n",
    "#1.checking outliers in data\n",
    "\n",
    "sns.boxplot(data=df, orient = 'h')\n",
    "plt.show()"
   ]
  },
  {
   "cell_type": "markdown",
   "id": "31db6b2e",
   "metadata": {},
   "source": [
    "###### MRP contains many outtliers than Display "
   ]
  },
  {
   "cell_type": "code",
   "execution_count": 63,
   "id": "6ea719f8",
   "metadata": {
    "scrolled": false
   },
   "outputs": [
    {
     "name": "stdout",
     "output_type": "stream",
     "text": [
      "Lower Boundary : -45368.125 Upper Boundary : 179604.875\n"
     ]
    },
    {
     "data": {
      "text/html": [
       "<div>\n",
       "<style scoped>\n",
       "    .dataframe tbody tr th:only-of-type {\n",
       "        vertical-align: middle;\n",
       "    }\n",
       "\n",
       "    .dataframe tbody tr th {\n",
       "        vertical-align: top;\n",
       "    }\n",
       "\n",
       "    .dataframe thead th {\n",
       "        text-align: right;\n",
       "    }\n",
       "</style>\n",
       "<table border=\"1\" class=\"dataframe\">\n",
       "  <thead>\n",
       "    <tr style=\"text-align: right;\">\n",
       "      <th></th>\n",
       "      <th>MRP</th>\n",
       "      <th>OS</th>\n",
       "      <th>Processor</th>\n",
       "      <th>Display</th>\n",
       "      <th>RAM</th>\n",
       "      <th>RAM_Type</th>\n",
       "      <th>Bit</th>\n",
       "      <th>SSD</th>\n",
       "    </tr>\n",
       "  </thead>\n",
       "  <tbody>\n",
       "    <tr>\n",
       "      <th>15</th>\n",
       "      <td>196990</td>\n",
       "      <td>Windows 11</td>\n",
       "      <td>AMD</td>\n",
       "      <td>39.62</td>\n",
       "      <td>16</td>\n",
       "      <td>DDR5</td>\n",
       "      <td>64</td>\n",
       "      <td>1</td>\n",
       "    </tr>\n",
       "    <tr>\n",
       "      <th>27</th>\n",
       "      <td>196990</td>\n",
       "      <td>Windows 11</td>\n",
       "      <td>AMD</td>\n",
       "      <td>39.62</td>\n",
       "      <td>16</td>\n",
       "      <td>DDR5</td>\n",
       "      <td>64</td>\n",
       "      <td>1</td>\n",
       "    </tr>\n",
       "    <tr>\n",
       "      <th>41</th>\n",
       "      <td>194990</td>\n",
       "      <td>Windows 11</td>\n",
       "      <td>AMD</td>\n",
       "      <td>39.62</td>\n",
       "      <td>16</td>\n",
       "      <td>DDR5</td>\n",
       "      <td>64</td>\n",
       "      <td>1</td>\n",
       "    </tr>\n",
       "    <tr>\n",
       "      <th>56</th>\n",
       "      <td>196990</td>\n",
       "      <td>Windows 11</td>\n",
       "      <td>AMD</td>\n",
       "      <td>39.62</td>\n",
       "      <td>16</td>\n",
       "      <td>DDR5</td>\n",
       "      <td>64</td>\n",
       "      <td>1</td>\n",
       "    </tr>\n",
       "    <tr>\n",
       "      <th>70</th>\n",
       "      <td>194990</td>\n",
       "      <td>Windows 11</td>\n",
       "      <td>AMD</td>\n",
       "      <td>39.62</td>\n",
       "      <td>16</td>\n",
       "      <td>DDR5</td>\n",
       "      <td>64</td>\n",
       "      <td>1</td>\n",
       "    </tr>\n",
       "    <tr>\n",
       "      <th>...</th>\n",
       "      <td>...</td>\n",
       "      <td>...</td>\n",
       "      <td>...</td>\n",
       "      <td>...</td>\n",
       "      <td>...</td>\n",
       "      <td>...</td>\n",
       "      <td>...</td>\n",
       "      <td>...</td>\n",
       "    </tr>\n",
       "    <tr>\n",
       "      <th>689</th>\n",
       "      <td>199990</td>\n",
       "      <td>Windows 10</td>\n",
       "      <td>AMD</td>\n",
       "      <td>39.62</td>\n",
       "      <td>16</td>\n",
       "      <td>DDR4</td>\n",
       "      <td>64</td>\n",
       "      <td>512</td>\n",
       "    </tr>\n",
       "    <tr>\n",
       "      <th>694</th>\n",
       "      <td>179990</td>\n",
       "      <td>Windows 11</td>\n",
       "      <td>Intel Core i7</td>\n",
       "      <td>40.64</td>\n",
       "      <td>16</td>\n",
       "      <td>DDR5</td>\n",
       "      <td>64</td>\n",
       "      <td>1</td>\n",
       "    </tr>\n",
       "    <tr>\n",
       "      <th>701</th>\n",
       "      <td>196990</td>\n",
       "      <td>Windows 11</td>\n",
       "      <td>AMD</td>\n",
       "      <td>39.62</td>\n",
       "      <td>16</td>\n",
       "      <td>DDR5</td>\n",
       "      <td>64</td>\n",
       "      <td>1</td>\n",
       "    </tr>\n",
       "    <tr>\n",
       "      <th>712</th>\n",
       "      <td>233990</td>\n",
       "      <td>Windows 10</td>\n",
       "      <td>Intel Core i7</td>\n",
       "      <td>35.56</td>\n",
       "      <td>16</td>\n",
       "      <td>DDR3</td>\n",
       "      <td>64</td>\n",
       "      <td>2</td>\n",
       "    </tr>\n",
       "    <tr>\n",
       "      <th>717</th>\n",
       "      <td>194990</td>\n",
       "      <td>Windows 11</td>\n",
       "      <td>AMD</td>\n",
       "      <td>39.62</td>\n",
       "      <td>16</td>\n",
       "      <td>DDR5</td>\n",
       "      <td>64</td>\n",
       "      <td>1</td>\n",
       "    </tr>\n",
       "  </tbody>\n",
       "</table>\n",
       "<p>84 rows × 8 columns</p>\n",
       "</div>"
      ],
      "text/plain": [
       "        MRP          OS      Processor  Display  RAM RAM_Type  Bit  SSD\n",
       "15   196990  Windows 11           AMD     39.62  16      DDR5  64     1\n",
       "27   196990  Windows 11           AMD     39.62  16      DDR5  64     1\n",
       "41   194990  Windows 11           AMD     39.62  16      DDR5  64     1\n",
       "56   196990  Windows 11           AMD     39.62  16      DDR5  64     1\n",
       "70   194990  Windows 11           AMD     39.62  16      DDR5  64     1\n",
       "..      ...         ...            ...      ...  ...      ...  ...  ...\n",
       "689  199990  Windows 10           AMD     39.62  16      DDR4  64   512\n",
       "694  179990  Windows 11  Intel Core i7    40.64  16      DDR5  64     1\n",
       "701  196990  Windows 11           AMD     39.62  16      DDR5  64     1\n",
       "712  233990  Windows 10  Intel Core i7    35.56  16      DDR3  64     2\n",
       "717  194990  Windows 11           AMD     39.62  16      DDR5  64     1\n",
       "\n",
       "[84 rows x 8 columns]"
      ]
     },
     "metadata": {},
     "output_type": "display_data"
    },
    {
     "name": "stdout",
     "output_type": "stream",
     "text": [
      "Outliers Percentage :: 11.666666666666666 %\n",
      "84\n"
     ]
    }
   ],
   "source": [
    "#checking otliers percentage of MRP\n",
    "outliers = find_outliers(df, \"MRP\")"
   ]
  },
  {
   "cell_type": "markdown",
   "id": "6f7ffbd9",
   "metadata": {},
   "source": [
    "##### The outliers are 11% and it seems like they are going to contribute to the analysis. So, we are not going to treat them."
   ]
  },
  {
   "cell_type": "code",
   "execution_count": 64,
   "id": "e7ab21a7",
   "metadata": {
    "scrolled": false
   },
   "outputs": [
    {
     "name": "stderr",
     "output_type": "stream",
     "text": [
      "C:\\Users\\91932\\anaconda3\\lib\\site-packages\\seaborn\\distributions.py:2619: FutureWarning: `distplot` is a deprecated function and will be removed in a future version. Please adapt your code to use either `displot` (a figure-level function with similar flexibility) or `histplot` (an axes-level function for histograms).\n",
      "  warnings.warn(msg, FutureWarning)\n"
     ]
    },
    {
     "data": {
      "image/png": "[encoded data removed]",
      "text/plain": [
       "<Figure size 432x288 with 1 Axes>"
      ]
     },
     "metadata": {
      "needs_background": "light"
     },
     "output_type": "display_data"
    }
   ],
   "source": [
    "sns.distplot( x=df[\"Display\"])\n",
    "plt.show()"
   ]
  },
  {
   "cell_type": "code",
   "execution_count": 65,
   "id": "0c7256d4",
   "metadata": {},
   "outputs": [],
   "source": [
    "#BIvariate Analysis"
   ]
  },
  {
   "cell_type": "code",
   "execution_count": 66,
   "id": "1cb43a4e",
   "metadata": {
    "scrolled": false
   },
   "outputs": [
    {
     "data": {
      "image/png": "[encoded data removed]",
      "text/plain": [
       "<Figure size 432x288 with 1 Axes>"
      ]
     },
     "metadata": {
      "needs_background": "light"
     },
     "output_type": "display_data"
    }
   ],
   "source": [
    "sns.scatterplot(x=df[\"Display\"], y=df[\"MRP\"])\n",
    "plt.show()"
   ]
  },
  {
   "cell_type": "code",
   "execution_count": 67,
   "id": "50f4da06",
   "metadata": {},
   "outputs": [
    {
     "data": {
      "image/png": "[encoded data removed]",
      "text/plain": [
       "<Figure size 432x288 with 1 Axes>"
      ]
     },
     "metadata": {
      "needs_background": "light"
     },
     "output_type": "display_data"
    }
   ],
   "source": [
    "sns.barplot(x=df[\"Bit\"], y=df[\"MRP\"])\n",
    "plt.show()"
   ]
  },
  {
   "cell_type": "code",
   "execution_count": 68,
   "id": "a1300e3c",
   "metadata": {},
   "outputs": [
    {
     "data": {
      "image/png": "[encoded data removed]",
      "text/plain": [
       "<Figure size 432x288 with 1 Axes>"
      ]
     },
     "metadata": {
      "needs_background": "light"
     },
     "output_type": "display_data"
    }
   ],
   "source": [
    "sns.boxplot(x=df[\"SSD\"], y=df[\"MRP\"])\n",
    "plt.show()"
   ]
  },
  {
   "cell_type": "code",
   "execution_count": 69,
   "id": "4129b017",
   "metadata": {},
   "outputs": [
    {
     "data": {
      "image/png": "[encoded data removed]",
      "text/plain": [
       "<Figure size 432x288 with 1 Axes>"
      ]
     },
     "metadata": {
      "needs_background": "light"
     },
     "output_type": "display_data"
    }
   ],
   "source": [
    "sns.boxplot(x=df[\"OS\"], y=df[\"MRP\"])\n",
    "plt.show()"
   ]
  },
  {
   "cell_type": "code",
   "execution_count": 70,
   "id": "a407196f",
   "metadata": {},
   "outputs": [
    {
     "name": "stderr",
     "output_type": "stream",
     "text": [
      "C:\\Users\\91932\\anaconda3\\lib\\site-packages\\seaborn\\distributions.py:2619: FutureWarning: `distplot` is a deprecated function and will be removed in a future version. Please adapt your code to use either `displot` (a figure-level function with similar flexibility) or `histplot` (an axes-level function for histograms).\n",
      "  warnings.warn(msg, FutureWarning)\n"
     ]
    },
    {
     "data": {
      "image/png": "[encoded data removed]",
      "text/plain": [
       "<Figure size 432x288 with 1 Axes>"
      ]
     },
     "metadata": {
      "needs_background": "light"
     },
     "output_type": "display_data"
    }
   ],
   "source": [
    "#converting target column to normalized\n",
    "\n",
    "sns.distplot(df[\"MRP\"])\n",
    "plt.show()"
   ]
  },
  {
   "cell_type": "code",
   "execution_count": 71,
   "id": "fea1917e",
   "metadata": {
    "scrolled": true
   },
   "outputs": [],
   "source": [
    "df.to_csv(\"Laptop_price_prediction.csv\", index = False)\n",
    "\n"
   ]
  },
  {
   "cell_type": "code",
   "execution_count": 72,
   "id": "91ba6801",
   "metadata": {},
   "outputs": [],
   "source": [
    "#splitting train and test data\n",
    "\n",
    "X = df.drop(columns=\"MRP\")\n",
    "y = df[\"MRP\"]"
   ]
  },
  {
   "cell_type": "code",
   "execution_count": 73,
   "id": "e9577d5e",
   "metadata": {},
   "outputs": [],
   "source": [
    "\n",
    "\n",
    "from sklearn.model_selection import train_test_split\n",
    "X_train,X_test,y_train,y_test = train_test_split(X,y, test_size=0.2, random_state=5)"
   ]
  },
  {
   "cell_type": "code",
   "execution_count": 74,
   "id": "c0713357",
   "metadata": {
    "scrolled": true
   },
   "outputs": [
    {
     "data": {
      "text/html": [
       "<div>\n",
       "<style scoped>\n",
       "    .dataframe tbody tr th:only-of-type {\n",
       "        vertical-align: middle;\n",
       "    }\n",
       "\n",
       "    .dataframe tbody tr th {\n",
       "        vertical-align: top;\n",
       "    }\n",
       "\n",
       "    .dataframe thead th {\n",
       "        text-align: right;\n",
       "    }\n",
       "</style>\n",
       "<table border=\"1\" class=\"dataframe\">\n",
       "  <thead>\n",
       "    <tr style=\"text-align: right;\">\n",
       "      <th></th>\n",
       "      <th>OS</th>\n",
       "      <th>Processor</th>\n",
       "      <th>Display</th>\n",
       "      <th>RAM</th>\n",
       "      <th>RAM_Type</th>\n",
       "      <th>Bit</th>\n",
       "      <th>SSD</th>\n",
       "    </tr>\n",
       "  </thead>\n",
       "  <tbody>\n",
       "    <tr>\n",
       "      <th>338</th>\n",
       "      <td>Windows 11</td>\n",
       "      <td>Intel Core i7</td>\n",
       "      <td>39.62</td>\n",
       "      <td>16</td>\n",
       "      <td>DDR5</td>\n",
       "      <td>64</td>\n",
       "      <td>512</td>\n",
       "    </tr>\n",
       "    <tr>\n",
       "      <th>611</th>\n",
       "      <td>Windows 11</td>\n",
       "      <td>AMD</td>\n",
       "      <td>39.62</td>\n",
       "      <td>16</td>\n",
       "      <td>DDR4</td>\n",
       "      <td>64</td>\n",
       "      <td>1</td>\n",
       "    </tr>\n",
       "    <tr>\n",
       "      <th>193</th>\n",
       "      <td>Windows 10</td>\n",
       "      <td>Other Intel</td>\n",
       "      <td>39.62</td>\n",
       "      <td>16</td>\n",
       "      <td>DDR4</td>\n",
       "      <td>64</td>\n",
       "      <td>1</td>\n",
       "    </tr>\n",
       "    <tr>\n",
       "      <th>575</th>\n",
       "      <td>Windows 10</td>\n",
       "      <td>AMD</td>\n",
       "      <td>39.62</td>\n",
       "      <td>4</td>\n",
       "      <td>DDR4</td>\n",
       "      <td>64</td>\n",
       "      <td>1</td>\n",
       "    </tr>\n",
       "    <tr>\n",
       "      <th>354</th>\n",
       "      <td>Windows 11</td>\n",
       "      <td>Intel Core i5</td>\n",
       "      <td>35.56</td>\n",
       "      <td>8</td>\n",
       "      <td>DDR4</td>\n",
       "      <td>64</td>\n",
       "      <td>512</td>\n",
       "    </tr>\n",
       "    <tr>\n",
       "      <th>...</th>\n",
       "      <td>...</td>\n",
       "      <td>...</td>\n",
       "      <td>...</td>\n",
       "      <td>...</td>\n",
       "      <td>...</td>\n",
       "      <td>...</td>\n",
       "      <td>...</td>\n",
       "    </tr>\n",
       "    <tr>\n",
       "      <th>73</th>\n",
       "      <td>Windows 11</td>\n",
       "      <td>AMD</td>\n",
       "      <td>39.62</td>\n",
       "      <td>8</td>\n",
       "      <td>DDR4</td>\n",
       "      <td>64</td>\n",
       "      <td>512</td>\n",
       "    </tr>\n",
       "    <tr>\n",
       "      <th>400</th>\n",
       "      <td>Windows 10</td>\n",
       "      <td>AMD</td>\n",
       "      <td>35.56</td>\n",
       "      <td>8</td>\n",
       "      <td>DDR4</td>\n",
       "      <td>64</td>\n",
       "      <td>512</td>\n",
       "    </tr>\n",
       "    <tr>\n",
       "      <th>118</th>\n",
       "      <td>Mac</td>\n",
       "      <td>AMD</td>\n",
       "      <td>33.78</td>\n",
       "      <td>16</td>\n",
       "      <td>DDR4</td>\n",
       "      <td>64</td>\n",
       "      <td>512</td>\n",
       "    </tr>\n",
       "    <tr>\n",
       "      <th>701</th>\n",
       "      <td>Windows 11</td>\n",
       "      <td>AMD</td>\n",
       "      <td>39.62</td>\n",
       "      <td>16</td>\n",
       "      <td>DDR5</td>\n",
       "      <td>64</td>\n",
       "      <td>1</td>\n",
       "    </tr>\n",
       "    <tr>\n",
       "      <th>206</th>\n",
       "      <td>Windows 11</td>\n",
       "      <td>AMD</td>\n",
       "      <td>39.62</td>\n",
       "      <td>8</td>\n",
       "      <td>DDR4</td>\n",
       "      <td>64</td>\n",
       "      <td>512</td>\n",
       "    </tr>\n",
       "  </tbody>\n",
       "</table>\n",
       "<p>576 rows × 7 columns</p>\n",
       "</div>"
      ],
      "text/plain": [
       "             OS      Processor  Display  RAM RAM_Type  Bit  SSD\n",
       "338  Windows 11  Intel Core i7    39.62  16      DDR5  64   512\n",
       "611  Windows 11           AMD     39.62  16      DDR4  64     1\n",
       "193  Windows 10   Other Intel     39.62  16      DDR4  64     1\n",
       "575  Windows 10           AMD     39.62   4      DDR4  64     1\n",
       "354  Windows 11  Intel Core i5    35.56   8      DDR4  64   512\n",
       "..          ...            ...      ...  ...      ...  ...  ...\n",
       "73   Windows 11           AMD     39.62   8      DDR4  64   512\n",
       "400  Windows 10           AMD     35.56   8      DDR4  64   512\n",
       "118         Mac           AMD     33.78  16      DDR4  64   512\n",
       "701  Windows 11           AMD     39.62  16      DDR5  64     1\n",
       "206  Windows 11           AMD     39.62   8      DDR4  64   512\n",
       "\n",
       "[576 rows x 7 columns]"
      ]
     },
     "execution_count": 74,
     "metadata": {},
     "output_type": "execute_result"
    }
   ],
   "source": [
    "X_train"
   ]
  },
  {
   "cell_type": "code",
   "execution_count": 75,
   "id": "a17bdd0c",
   "metadata": {},
   "outputs": [
    {
     "data": {
      "text/plain": [
       "(576, 7)"
      ]
     },
     "execution_count": 75,
     "metadata": {},
     "output_type": "execute_result"
    }
   ],
   "source": [
    "X_train.shape"
   ]
  },
  {
   "cell_type": "code",
   "execution_count": 76,
   "id": "eef06966",
   "metadata": {},
   "outputs": [],
   "source": [
    "#Linear \n",
    "from sklearn.compose import ColumnTransformer\n",
    "from sklearn.pipeline import Pipeline\n",
    "from sklearn.preprocessing import OneHotEncoder\n",
    "from sklearn.linear_model import LinearRegression,Ridge,Lasso\n",
    "from sklearn.metrics import r2_score,mean_absolute_error"
   ]
  },
  {
   "cell_type": "code",
   "execution_count": 77,
   "id": "8e92bff5",
   "metadata": {},
   "outputs": [
    {
     "name": "stdout",
     "output_type": "stream",
     "text": [
      "R2 score 86.55958667387135\n",
      "MAE 1670060.1096943615\n"
     ]
    },
    {
     "name": "stderr",
     "output_type": "stream",
     "text": [
      "C:\\Users\\91932\\anaconda3\\lib\\site-packages\\sklearn\\preprocessing\\_encoders.py:868: FutureWarning: `sparse` was renamed to `sparse_output` in version 1.2 and will be removed in 1.4. `sparse_output` is ignored unless you leave `sparse` to its default value.\n",
      "  warnings.warn(\n"
     ]
    }
   ],
   "source": [
    "step1 = ColumnTransformer(transformers=[\n",
    "    ('col_tnf',OneHotEncoder(sparse=False,drop='first'),[0,1,4])\n",
    "],remainder='passthrough')\n",
    "\n",
    "step2 = LinearRegression()\n",
    "\n",
    "pipe = Pipeline([\n",
    "    ('step1',step1),\n",
    "    ('step2',step2)\n",
    "])\n",
    "\n",
    "pipe.fit(X_train,y_train)\n",
    "\n",
    "y_pred = pipe.predict(X_test)\n",
    "\n",
    "print('R2 score',r2_score(y_test,y_pred)*100)\n",
    "print('MAE',mean_absolute_error(y_test,y_pred)*100)"
   ]
  },
  {
   "cell_type": "code",
   "execution_count": 78,
   "id": "cfbe3a01",
   "metadata": {},
   "outputs": [
    {
     "name": "stderr",
     "output_type": "stream",
     "text": [
      "C:\\Users\\91932\\anaconda3\\lib\\site-packages\\sklearn\\preprocessing\\_encoders.py:868: FutureWarning: `sparse` was renamed to `sparse_output` in version 1.2 and will be removed in 1.4. `sparse_output` is ignored unless you leave `sparse` to its default value.\n",
      "  warnings.warn(\n"
     ]
    },
    {
     "name": "stdout",
     "output_type": "stream",
     "text": [
      "R2_score 84.98346901102354\n",
      "MAE 1761802.5556092649\n"
     ]
    }
   ],
   "source": [
    "step1 = ColumnTransformer(transformers=[\n",
    "    ('col_tnf',OneHotEncoder(sparse=False,drop='first'),[0,1,4])\n",
    "],remainder='passthrough')\n",
    "\n",
    "step2 = Ridge(10)\n",
    "pipe = Pipeline([\n",
    "    ('step1',step1),\n",
    "    ('step2',step2)\n",
    "])\n",
    "\n",
    "pipe.fit(X_train,y_train)\n",
    "\n",
    "y_pred = pipe.predict(X_test)\n",
    "print('R2_score',r2_score(y_test,y_pred)*100)\n",
    "print('MAE',mean_absolute_error(y_test,y_pred)*100)"
   ]
  },
  {
   "cell_type": "code",
   "execution_count": 79,
   "id": "be9adf3a",
   "metadata": {},
   "outputs": [
    {
     "name": "stdout",
     "output_type": "stream",
     "text": [
      "R2_score 86.5651521340824\n",
      "MAE 1667443.6085684847\n"
     ]
    },
    {
     "name": "stderr",
     "output_type": "stream",
     "text": [
      "C:\\Users\\91932\\anaconda3\\lib\\site-packages\\sklearn\\preprocessing\\_encoders.py:868: FutureWarning: `sparse` was renamed to `sparse_output` in version 1.2 and will be removed in 1.4. `sparse_output` is ignored unless you leave `sparse` to its default value.\n",
      "  warnings.warn(\n"
     ]
    }
   ],
   "source": [
    "step1 = ColumnTransformer(transformers=[\n",
    "    ('col_tnf',OneHotEncoder(sparse=False,drop= 'first'),[0,1,4])\n",
    "],remainder='passthrough')\n",
    "\n",
    "step2 = Lasso(10)\n",
    "\n",
    "pipe = Pipeline([\n",
    "    ('step1',step1),\n",
    "    ('step2',step2)\n",
    "])\n",
    "pipe.fit(X_train,y_train)\n",
    "\n",
    "y_pred =pipe.predict(X_test)\n",
    "print('R2_score',r2_score(y_test,y_pred)*100)\n",
    "print('MAE',mean_absolute_error(y_test,y_pred)*100)"
   ]
  },
  {
   "cell_type": "code",
   "execution_count": 80,
   "id": "710b0b74",
   "metadata": {},
   "outputs": [
    {
     "name": "stdout",
     "output_type": "stream",
     "text": [
      "R2_score 86.00898466878373\n",
      "MAE 1621158.611111111\n"
     ]
    },
    {
     "name": "stderr",
     "output_type": "stream",
     "text": [
      "C:\\Users\\91932\\anaconda3\\lib\\site-packages\\sklearn\\preprocessing\\_encoders.py:868: FutureWarning: `sparse` was renamed to `sparse_output` in version 1.2 and will be removed in 1.4. `sparse_output` is ignored unless you leave `sparse` to its default value.\n",
      "  warnings.warn(\n"
     ]
    }
   ],
   "source": [
    "#KNN\n",
    "#from sklearn.metrics import accuracy_score\n",
    "from sklearn.neighbors import KNeighborsRegressor\n",
    "step1 = ColumnTransformer(transformers=[\n",
    "    ('col_tnf',OneHotEncoder(sparse=False,drop= 'first'),[0,1,4])\n",
    "],remainder='passthrough')\n",
    "\n",
    "step2 = KNeighborsRegressor(n_neighbors=10)\n",
    "\n",
    "pipe = Pipeline([\n",
    "    ('step1',step1),\n",
    "    ('step2',step2)\n",
    "])\n",
    "pipe.fit(X_train,y_train)\n",
    "\n",
    "y_pred =pipe.predict(X_test)\n",
    "print('R2_score',r2_score(y_test,y_pred)*100)\n",
    "print('MAE',mean_absolute_error(y_test,y_pred)*100)"
   ]
  },
  {
   "cell_type": "code",
   "execution_count": 81,
   "id": "128ab77e",
   "metadata": {},
   "outputs": [
    {
     "name": "stderr",
     "output_type": "stream",
     "text": [
      "C:\\Users\\91932\\anaconda3\\lib\\site-packages\\sklearn\\preprocessing\\_encoders.py:868: FutureWarning: `sparse` was renamed to `sparse_output` in version 1.2 and will be removed in 1.4. `sparse_output` is ignored unless you leave `sparse` to its default value.\n",
      "  warnings.warn(\n"
     ]
    },
    {
     "name": "stdout",
     "output_type": "stream",
     "text": [
      "R2_score 85.83403230479863\n",
      "MAE 1434137.493235748\n"
     ]
    }
   ],
   "source": [
    "#DecisionTree\n",
    "\n",
    "from sklearn.tree import DecisionTreeRegressor\n",
    "step1 = ColumnTransformer(transformers=[\n",
    "    ('col_tnf',OneHotEncoder(sparse=False,drop= 'first'),[0,1,4])\n",
    "],remainder='passthrough')\n",
    "\n",
    "step2 = DecisionTreeRegressor(max_depth=8)\n",
    "\n",
    "pipe = Pipeline([\n",
    "    ('step1',step1),\n",
    "    ('step2',step2)\n",
    "])\n",
    "pipe.fit(X_train,y_train)\n",
    "\n",
    "y_pred =pipe.predict(X_test)\n",
    "print('R2_score',r2_score(y_test,y_pred)*100)\n",
    "print('MAE',mean_absolute_error(y_test,y_pred)*100)"
   ]
  },
  {
   "cell_type": "code",
   "execution_count": 82,
   "id": "64c076cf",
   "metadata": {
    "scrolled": true
   },
   "outputs": [
    {
     "name": "stderr",
     "output_type": "stream",
     "text": [
      "C:\\Users\\91932\\anaconda3\\lib\\site-packages\\sklearn\\preprocessing\\_encoders.py:868: FutureWarning: `sparse` was renamed to `sparse_output` in version 1.2 and will be removed in 1.4. `sparse_output` is ignored unless you leave `sparse` to its default value.\n",
      "  warnings.warn(\n"
     ]
    },
    {
     "name": "stdout",
     "output_type": "stream",
     "text": [
      "R2 score 88.76167866858908\n",
      "MAE 1429369.5201885926\n"
     ]
    }
   ],
   "source": [
    "#Random Forest \n",
    "from sklearn.ensemble import RandomForestRegressor\n",
    "step1 = ColumnTransformer(transformers=[\n",
    "    ('col_tnf',OneHotEncoder(sparse=False,drop='first'),[0,1,4])\n",
    "],remainder='passthrough')\n",
    "\n",
    "step2 = RandomForestRegressor(n_estimators=100,\n",
    "                              random_state=3,\n",
    "                              max_samples=0.5,\n",
    "                              max_features=0.75,\n",
    "                              max_depth=15)\n",
    "\n",
    "pipe = Pipeline([\n",
    "    ('step1',step1),\n",
    "    ('step2',step2)\n",
    "])\n",
    "\n",
    "pipe.fit(X_train,y_train)\n",
    "\n",
    "y_pred = pipe.predict(X_test)\n",
    "\n",
    "print('R2 score',r2_score(y_test,y_pred)*100)\n",
    "print('MAE',mean_absolute_error(y_test,y_pred)*100)\n"
   ]
  },
  {
   "cell_type": "markdown",
   "id": "cc1f7d12",
   "metadata": {},
   "source": [
    "###### Export Model"
   ]
  },
  {
   "cell_type": "code",
   "execution_count": 84,
   "id": "5c7ccfde",
   "metadata": {},
   "outputs": [
    {
     "data": {
      "text/plain": [
       "['prediction.pkl']"
      ]
     },
     "execution_count": 84,
     "metadata": {},
     "output_type": "execute_result"
    }
   ],
   "source": [
    "import joblib\n",
    "\n",
    "\n",
    "joblib.dump(pipe,\"prediction.pkl\")"
   ]
  },
  {
   "cell_type": "code",
   "execution_count": 85,
   "id": "d1b6ec4c",
   "metadata": {},
   "outputs": [
    {
     "data": {
      "text/html": [
       "<div>\n",
       "<style scoped>\n",
       "    .dataframe tbody tr th:only-of-type {\n",
       "        vertical-align: middle;\n",
       "    }\n",
       "\n",
       "    .dataframe tbody tr th {\n",
       "        vertical-align: top;\n",
       "    }\n",
       "\n",
       "    .dataframe thead th {\n",
       "        text-align: right;\n",
       "    }\n",
       "</style>\n",
       "<table border=\"1\" class=\"dataframe\">\n",
       "  <thead>\n",
       "    <tr style=\"text-align: right;\">\n",
       "      <th></th>\n",
       "      <th>MRP</th>\n",
       "      <th>OS</th>\n",
       "      <th>Processor</th>\n",
       "      <th>Display</th>\n",
       "      <th>RAM</th>\n",
       "      <th>RAM_Type</th>\n",
       "      <th>Bit</th>\n",
       "      <th>SSD</th>\n",
       "    </tr>\n",
       "  </thead>\n",
       "  <tbody>\n",
       "    <tr>\n",
       "      <th>0</th>\n",
       "      <td>36990</td>\n",
       "      <td>Windows 11</td>\n",
       "      <td>Intel Core i3</td>\n",
       "      <td>35.56</td>\n",
       "      <td>8</td>\n",
       "      <td>DDR4</td>\n",
       "      <td>64</td>\n",
       "      <td>256</td>\n",
       "    </tr>\n",
       "    <tr>\n",
       "      <th>1</th>\n",
       "      <td>39990</td>\n",
       "      <td>Windows 11</td>\n",
       "      <td>Intel Core i3</td>\n",
       "      <td>39.62</td>\n",
       "      <td>8</td>\n",
       "      <td>DDR4</td>\n",
       "      <td>64</td>\n",
       "      <td>512</td>\n",
       "    </tr>\n",
       "    <tr>\n",
       "      <th>2</th>\n",
       "      <td>32990</td>\n",
       "      <td>Windows 11</td>\n",
       "      <td>Intel Core i3</td>\n",
       "      <td>39.62</td>\n",
       "      <td>8</td>\n",
       "      <td>DDR4</td>\n",
       "      <td>64</td>\n",
       "      <td>512</td>\n",
       "    </tr>\n",
       "    <tr>\n",
       "      <th>3</th>\n",
       "      <td>49990</td>\n",
       "      <td>Windows 10</td>\n",
       "      <td>AMD</td>\n",
       "      <td>39.62</td>\n",
       "      <td>8</td>\n",
       "      <td>DDR4</td>\n",
       "      <td>64</td>\n",
       "      <td>512</td>\n",
       "    </tr>\n",
       "    <tr>\n",
       "      <th>4</th>\n",
       "      <td>49990</td>\n",
       "      <td>Windows 11</td>\n",
       "      <td>Intel Core i5</td>\n",
       "      <td>39.62</td>\n",
       "      <td>8</td>\n",
       "      <td>DDR4</td>\n",
       "      <td>64</td>\n",
       "      <td>512</td>\n",
       "    </tr>\n",
       "    <tr>\n",
       "      <th>...</th>\n",
       "      <td>...</td>\n",
       "      <td>...</td>\n",
       "      <td>...</td>\n",
       "      <td>...</td>\n",
       "      <td>...</td>\n",
       "      <td>...</td>\n",
       "      <td>...</td>\n",
       "      <td>...</td>\n",
       "    </tr>\n",
       "    <tr>\n",
       "      <th>715</th>\n",
       "      <td>23490</td>\n",
       "      <td>Windows 11</td>\n",
       "      <td>Other Intel</td>\n",
       "      <td>29.46</td>\n",
       "      <td>4</td>\n",
       "      <td>DDR4</td>\n",
       "      <td>64</td>\n",
       "      <td>512</td>\n",
       "    </tr>\n",
       "    <tr>\n",
       "      <th>716</th>\n",
       "      <td>73490</td>\n",
       "      <td>Windows 11</td>\n",
       "      <td>AMD</td>\n",
       "      <td>39.62</td>\n",
       "      <td>8</td>\n",
       "      <td>DDR4</td>\n",
       "      <td>64</td>\n",
       "      <td>512</td>\n",
       "    </tr>\n",
       "    <tr>\n",
       "      <th>717</th>\n",
       "      <td>194990</td>\n",
       "      <td>Windows 11</td>\n",
       "      <td>AMD</td>\n",
       "      <td>39.62</td>\n",
       "      <td>16</td>\n",
       "      <td>DDR5</td>\n",
       "      <td>64</td>\n",
       "      <td>1</td>\n",
       "    </tr>\n",
       "    <tr>\n",
       "      <th>718</th>\n",
       "      <td>125990</td>\n",
       "      <td>Windows 11</td>\n",
       "      <td>Intel Core i7</td>\n",
       "      <td>35.56</td>\n",
       "      <td>16</td>\n",
       "      <td>DDR5</td>\n",
       "      <td>64</td>\n",
       "      <td>512</td>\n",
       "    </tr>\n",
       "    <tr>\n",
       "      <th>719</th>\n",
       "      <td>50990</td>\n",
       "      <td>Windows 10</td>\n",
       "      <td>Intel Core i5</td>\n",
       "      <td>39.62</td>\n",
       "      <td>8</td>\n",
       "      <td>DDR4</td>\n",
       "      <td>64</td>\n",
       "      <td>1</td>\n",
       "    </tr>\n",
       "  </tbody>\n",
       "</table>\n",
       "<p>720 rows × 8 columns</p>\n",
       "</div>"
      ],
      "text/plain": [
       "        MRP          OS      Processor  Display  RAM RAM_Type  Bit  SSD\n",
       "0     36990  Windows 11  Intel Core i3    35.56   8      DDR4  64   256\n",
       "1     39990  Windows 11  Intel Core i3    39.62   8      DDR4  64   512\n",
       "2     32990  Windows 11  Intel Core i3    39.62   8      DDR4  64   512\n",
       "3     49990  Windows 10           AMD     39.62   8      DDR4  64   512\n",
       "4     49990  Windows 11  Intel Core i5    39.62   8      DDR4  64   512\n",
       "..      ...         ...            ...      ...  ...      ...  ...  ...\n",
       "715   23490  Windows 11   Other Intel     29.46   4      DDR4  64   512\n",
       "716   73490  Windows 11           AMD     39.62   8      DDR4  64   512\n",
       "717  194990  Windows 11           AMD     39.62  16      DDR5  64     1\n",
       "718  125990  Windows 11  Intel Core i7    35.56  16      DDR5  64   512\n",
       "719   50990  Windows 10  Intel Core i5    39.62   8      DDR4  64     1\n",
       "\n",
       "[720 rows x 8 columns]"
      ]
     },
     "execution_count": 85,
     "metadata": {},
     "output_type": "execute_result"
    }
   ],
   "source": [
    "df"
   ]
  },
  {
   "cell_type": "code",
   "execution_count": null,
   "id": "ecc17fcf",
   "metadata": {},
   "outputs": [],
   "source": []
  },
  {
   "cell_type": "code",
   "execution_count": 86,
   "id": "40fc3be4",
   "metadata": {},
   "outputs": [
    {
     "data": {
      "text/html": [
       "<div>\n",
       "<style scoped>\n",
       "    .dataframe tbody tr th:only-of-type {\n",
       "        vertical-align: middle;\n",
       "    }\n",
       "\n",
       "    .dataframe tbody tr th {\n",
       "        vertical-align: top;\n",
       "    }\n",
       "\n",
       "    .dataframe thead th {\n",
       "        text-align: right;\n",
       "    }\n",
       "</style>\n",
       "<table border=\"1\" class=\"dataframe\">\n",
       "  <thead>\n",
       "    <tr style=\"text-align: right;\">\n",
       "      <th></th>\n",
       "      <th>OS</th>\n",
       "      <th>Processor</th>\n",
       "      <th>Display</th>\n",
       "      <th>RAM</th>\n",
       "      <th>RAM_Type</th>\n",
       "      <th>Bit</th>\n",
       "      <th>SSD</th>\n",
       "    </tr>\n",
       "  </thead>\n",
       "  <tbody>\n",
       "    <tr>\n",
       "      <th>338</th>\n",
       "      <td>Windows 11</td>\n",
       "      <td>Intel Core i7</td>\n",
       "      <td>39.62</td>\n",
       "      <td>16</td>\n",
       "      <td>DDR5</td>\n",
       "      <td>64</td>\n",
       "      <td>512</td>\n",
       "    </tr>\n",
       "    <tr>\n",
       "      <th>611</th>\n",
       "      <td>Windows 11</td>\n",
       "      <td>AMD</td>\n",
       "      <td>39.62</td>\n",
       "      <td>16</td>\n",
       "      <td>DDR4</td>\n",
       "      <td>64</td>\n",
       "      <td>1</td>\n",
       "    </tr>\n",
       "    <tr>\n",
       "      <th>193</th>\n",
       "      <td>Windows 10</td>\n",
       "      <td>Other Intel</td>\n",
       "      <td>39.62</td>\n",
       "      <td>16</td>\n",
       "      <td>DDR4</td>\n",
       "      <td>64</td>\n",
       "      <td>1</td>\n",
       "    </tr>\n",
       "    <tr>\n",
       "      <th>575</th>\n",
       "      <td>Windows 10</td>\n",
       "      <td>AMD</td>\n",
       "      <td>39.62</td>\n",
       "      <td>4</td>\n",
       "      <td>DDR4</td>\n",
       "      <td>64</td>\n",
       "      <td>1</td>\n",
       "    </tr>\n",
       "    <tr>\n",
       "      <th>354</th>\n",
       "      <td>Windows 11</td>\n",
       "      <td>Intel Core i5</td>\n",
       "      <td>35.56</td>\n",
       "      <td>8</td>\n",
       "      <td>DDR4</td>\n",
       "      <td>64</td>\n",
       "      <td>512</td>\n",
       "    </tr>\n",
       "    <tr>\n",
       "      <th>...</th>\n",
       "      <td>...</td>\n",
       "      <td>...</td>\n",
       "      <td>...</td>\n",
       "      <td>...</td>\n",
       "      <td>...</td>\n",
       "      <td>...</td>\n",
       "      <td>...</td>\n",
       "    </tr>\n",
       "    <tr>\n",
       "      <th>73</th>\n",
       "      <td>Windows 11</td>\n",
       "      <td>AMD</td>\n",
       "      <td>39.62</td>\n",
       "      <td>8</td>\n",
       "      <td>DDR4</td>\n",
       "      <td>64</td>\n",
       "      <td>512</td>\n",
       "    </tr>\n",
       "    <tr>\n",
       "      <th>400</th>\n",
       "      <td>Windows 10</td>\n",
       "      <td>AMD</td>\n",
       "      <td>35.56</td>\n",
       "      <td>8</td>\n",
       "      <td>DDR4</td>\n",
       "      <td>64</td>\n",
       "      <td>512</td>\n",
       "    </tr>\n",
       "    <tr>\n",
       "      <th>118</th>\n",
       "      <td>Mac</td>\n",
       "      <td>AMD</td>\n",
       "      <td>33.78</td>\n",
       "      <td>16</td>\n",
       "      <td>DDR4</td>\n",
       "      <td>64</td>\n",
       "      <td>512</td>\n",
       "    </tr>\n",
       "    <tr>\n",
       "      <th>701</th>\n",
       "      <td>Windows 11</td>\n",
       "      <td>AMD</td>\n",
       "      <td>39.62</td>\n",
       "      <td>16</td>\n",
       "      <td>DDR5</td>\n",
       "      <td>64</td>\n",
       "      <td>1</td>\n",
       "    </tr>\n",
       "    <tr>\n",
       "      <th>206</th>\n",
       "      <td>Windows 11</td>\n",
       "      <td>AMD</td>\n",
       "      <td>39.62</td>\n",
       "      <td>8</td>\n",
       "      <td>DDR4</td>\n",
       "      <td>64</td>\n",
       "      <td>512</td>\n",
       "    </tr>\n",
       "  </tbody>\n",
       "</table>\n",
       "<p>576 rows × 7 columns</p>\n",
       "</div>"
      ],
      "text/plain": [
       "             OS      Processor  Display  RAM RAM_Type  Bit  SSD\n",
       "338  Windows 11  Intel Core i7    39.62  16      DDR5  64   512\n",
       "611  Windows 11           AMD     39.62  16      DDR4  64     1\n",
       "193  Windows 10   Other Intel     39.62  16      DDR4  64     1\n",
       "575  Windows 10           AMD     39.62   4      DDR4  64     1\n",
       "354  Windows 11  Intel Core i5    35.56   8      DDR4  64   512\n",
       "..          ...            ...      ...  ...      ...  ...  ...\n",
       "73   Windows 11           AMD     39.62   8      DDR4  64   512\n",
       "400  Windows 10           AMD     35.56   8      DDR4  64   512\n",
       "118         Mac           AMD     33.78  16      DDR4  64   512\n",
       "701  Windows 11           AMD     39.62  16      DDR5  64     1\n",
       "206  Windows 11           AMD     39.62   8      DDR4  64   512\n",
       "\n",
       "[576 rows x 7 columns]"
      ]
     },
     "execution_count": 86,
     "metadata": {},
     "output_type": "execute_result"
    }
   ],
   "source": [
    "X_train\n"
   ]
  },
  {
   "cell_type": "code",
   "execution_count": 87,
   "id": "74e60b46",
   "metadata": {},
   "outputs": [
    {
     "data": {
      "text/plain": [
       "array(['Windows 11', 'Intel Core i7', 39.62, '16 ', 'DDR5', '64 ', '512'],\n",
       "      dtype=object)"
      ]
     },
     "execution_count": 87,
     "metadata": {},
     "output_type": "execute_result"
    }
   ],
   "source": [
    "X_train.iloc[0,:].values\n"
   ]
  },
  {
   "cell_type": "code",
   "execution_count": 88,
   "id": "3a5bb706",
   "metadata": {},
   "outputs": [
    {
     "data": {
      "text/plain": [
       "array([149165.54285714])"
      ]
     },
     "execution_count": 88,
     "metadata": {},
     "output_type": "execute_result"
    }
   ],
   "source": [
    "new_pt = [['Windows 11', 'Intel Core i7', 39.62, '16 ', 'DDR5', '64 ', '512']]\n",
    "\n",
    "columns = [\"OS\",\"Processor\",\"Display\",\"RAM\",\"RAM_Type\",\"Bit\",\"SSD\"]\n",
    "\n",
    "new_pt = pd.DataFrame(new_pt, columns = X_test.columns)\n",
    "\n",
    "new_pt\n",
    "\n",
    "pipe.predict(new_pt)           \n",
    "\n"
   ]
  },
  {
   "cell_type": "code",
   "execution_count": 89,
   "id": "c6911140",
   "metadata": {},
   "outputs": [
    {
     "data": {
      "text/plain": [
       "array([114148.53892596,  40097.36246739,  50278.96217513,  41572.39516667,\n",
       "        45479.19010795,  47867.96037413,  36961.11410373,  54627.89971429,\n",
       "        67456.42285714,  29402.56666667,  80010.41166667,  40611.78      ,\n",
       "        40097.36246739,  41572.39516667,  29030.43333333,  45479.19010795,\n",
       "       130702.15175439,  45479.19010795,  68664.29144841,  73419.87231638,\n",
       "        45479.19010795, 308406.19666667,  80010.41166667, 114148.53892596,\n",
       "        35703.48888889,  45479.19010795,  45479.19010795, 188501.78479969,\n",
       "       150349.02857143,  36961.11410373,  37987.52333333, 114148.53892596,\n",
       "        36961.11410373,  75241.57964297,  46674.20289683,  35703.48888889,\n",
       "        89514.54892063,  45479.19010795,  47867.96037413,  47646.0312485 ,\n",
       "       130677.07333333,  45479.19010795,  73419.87231638, 139776.69166667,\n",
       "       114148.53892596, 188501.78479969,  45479.19010795,  47867.96037413,\n",
       "        47867.96037413,  57806.49126984,  77308.81365079, 188501.78479969,\n",
       "        54627.89971429,  45479.19010795, 105220.9704645 ,  38312.98190018,\n",
       "        50278.96217513,  40097.36246739, 133230.75130952,  95467.33333333,\n",
       "       188568.41362174,  45479.19010795,  40097.36246739,  41691.695     ,\n",
       "        89377.1784881 ,  68664.29144841, 188501.78479969, 114148.53892596,\n",
       "        45479.19010795,  47867.96037413,  55873.93471569,  73419.87231638,\n",
       "       127696.44336085,  57513.25071429,  47867.96037413,  36961.11410373,\n",
       "       150349.02857143,  36961.11410373,  23498.78      , 114148.53892596,\n",
       "       148403.31248088,  50278.96217513, 114148.53892596,  35703.48888889,\n",
       "        73419.87231638,  47867.96037413,  47867.96037413,  36961.11410373,\n",
       "        74972.25321423,  57513.25071429,  73419.87231638,  60369.79943117,\n",
       "       256345.41666667,  40097.36246739,  52438.02962554,  47867.96037413,\n",
       "       188568.41362174, 150349.02857143,  45479.19010795,  58590.48952381,\n",
       "        47867.96037413,  54627.89971429,  77386.30952381,  36961.11410373,\n",
       "        55873.93471569, 188501.78479969, 188501.78479969, 124896.76666667,\n",
       "        47867.96037413,  45479.19010795,  47867.96037413,  45479.19010795,\n",
       "       114148.53892596, 250588.64761905,  74972.25321423, 188501.78479969,\n",
       "        36961.11410373, 124896.76666667, 130702.15175439,  36961.11410373,\n",
       "        40097.36246739, 129040.77666667,  70369.54963414,  55873.93471569,\n",
       "       114148.53892596, 176944.44761905,  55873.93471569, 188501.78479969,\n",
       "        47867.96037413,  35362.86      , 150349.02857143,  38312.98190018,\n",
       "        40666.6002479 , 229345.1       ,  45479.19010795, 188501.78479969,\n",
       "        55915.74720507,  73419.87231638,  49899.80678571, 114148.53892596,\n",
       "        40097.36246739,  73419.87231638, 188501.78479969,  35362.86      ])"
      ]
     },
     "execution_count": 89,
     "metadata": {},
     "output_type": "execute_result"
    }
   ],
   "source": [
    "y_pred"
   ]
  },
  {
   "cell_type": "code",
   "execution_count": null,
   "id": "0ba5cb50",
   "metadata": {},
   "outputs": [],
   "source": []
  }
 ],
 "metadata": {
  "kernelspec": {
   "display_name": "Python 3 (ipykernel)",
   "language": "python",
   "name": "python3"
  },
  "language_info": {
   "codemirror_mode": {
    "name": "ipython",
    "version": 3
   },
   "file_extension": ".py",
   "mimetype": "text/x-python",
   "name": "python",
   "nbconvert_exporter": "python",
   "pygments_lexer": "ipython3",
   "version": "3.9.12"
  }
 },
 "nbformat": 4,
 "nbformat_minor": 5
}
